{
 "cells": [
  {
   "cell_type": "markdown",
   "metadata": {},
   "source": [
    "# Muhammad Faraz Nadeem Khan"
   ]
  },
  {
   "cell_type": "code",
   "execution_count": 2,
   "metadata": {},
   "outputs": [],
   "source": [
    "# Importing Libraries\n",
    "import numpy as np\n",
    "import pandas as pd\n",
    "import missingno as mano\n",
    "from matplotlib import pyplot as plt\n",
    "%matplotlib inline"
   ]
  },
  {
   "cell_type": "code",
   "execution_count": 4,
   "metadata": {},
   "outputs": [],
   "source": [
    "# Reading Data \n",
    "df = pd.read_csv('nyc-rolling-sales-dirty.csv')"
   ]
  },
  {
   "cell_type": "code",
   "execution_count": 1980,
   "metadata": {},
   "outputs": [
    {
     "data": {
      "text/plain": [
       "(84548, 22)"
      ]
     },
     "execution_count": 1980,
     "metadata": {},
     "output_type": "execute_result"
    }
   ],
   "source": [
    "df.shape"
   ]
  },
  {
   "cell_type": "code",
   "execution_count": 1981,
   "metadata": {},
   "outputs": [],
   "source": [
    "pd.set_option('display.max_columns', None) #This commands increases the limit for pandas to display data"
   ]
  },
  {
   "cell_type": "code",
   "execution_count": 1982,
   "metadata": {},
   "outputs": [
    {
     "data": {
      "text/html": [
       "<div>\n",
       "<style scoped>\n",
       "    .dataframe tbody tr th:only-of-type {\n",
       "        vertical-align: middle;\n",
       "    }\n",
       "\n",
       "    .dataframe tbody tr th {\n",
       "        vertical-align: top;\n",
       "    }\n",
       "\n",
       "    .dataframe thead th {\n",
       "        text-align: right;\n",
       "    }\n",
       "</style>\n",
       "<table border=\"1\" class=\"dataframe\">\n",
       "  <thead>\n",
       "    <tr style=\"text-align: right;\">\n",
       "      <th></th>\n",
       "      <th>Unnamed: 0</th>\n",
       "      <th>BOROUGH</th>\n",
       "      <th>NEIGHBORHOOD</th>\n",
       "      <th>BUILDING CLASS CATEGORY</th>\n",
       "      <th>TAX CLASS AT PRESENT</th>\n",
       "      <th>BLOCK</th>\n",
       "      <th>LOT</th>\n",
       "      <th>EASE-MENT</th>\n",
       "      <th>BUILDING CLASS AT PRESENT</th>\n",
       "      <th>ADDRESS</th>\n",
       "      <th>APARTMENT NUMBER</th>\n",
       "      <th>ZIP CODE</th>\n",
       "      <th>RESIDENTIAL UNITS</th>\n",
       "      <th>COMMERCIAL UNITS</th>\n",
       "      <th>TOTAL UNITS</th>\n",
       "      <th>LAND SQUARE FEET</th>\n",
       "      <th>GROSS SQUARE FEET</th>\n",
       "      <th>YEAR BUILT</th>\n",
       "      <th>TAX CLASS AT TIME OF SALE</th>\n",
       "      <th>BUILDING CLASS AT TIME OF SALE</th>\n",
       "      <th>SALE PRICE</th>\n",
       "      <th>SALE DATE</th>\n",
       "    </tr>\n",
       "  </thead>\n",
       "  <tbody>\n",
       "    <tr>\n",
       "      <th>0</th>\n",
       "      <td>4</td>\n",
       "      <td>1</td>\n",
       "      <td>ALPHABET CITY</td>\n",
       "      <td>07 RENTALS - WALKUP APARTMENTS</td>\n",
       "      <td>2A</td>\n",
       "      <td>392.0</td>\n",
       "      <td>No Number</td>\n",
       "      <td>NaN</td>\n",
       "      <td>65000</td>\n",
       "      <td>NaN</td>\n",
       "      <td>NaN</td>\n",
       "      <td>10009.0</td>\n",
       "      <td>5</td>\n",
       "      <td>0</td>\n",
       "      <td>5</td>\n",
       "      <td>1633</td>\n",
       "      <td>6440</td>\n",
       "      <td>1900</td>\n",
       "      <td>2</td>\n",
       "      <td>C2</td>\n",
       "      <td>6625000</td>\n",
       "      <td>why</td>\n",
       "    </tr>\n",
       "    <tr>\n",
       "      <th>1</th>\n",
       "      <td>5</td>\n",
       "      <td>1</td>\n",
       "      <td>ALPHABET CITY</td>\n",
       "      <td>07 RENTALS - WALKUP APARTMENTS</td>\n",
       "      <td>2</td>\n",
       "      <td>399.0</td>\n",
       "      <td>26</td>\n",
       "      <td></td>\n",
       "      <td>C7</td>\n",
       "      <td>NaN</td>\n",
       "      <td></td>\n",
       "      <td>NaN</td>\n",
       "      <td>28</td>\n",
       "      <td>3</td>\n",
       "      <td>31</td>\n",
       "      <td>4616</td>\n",
       "      <td>18690</td>\n",
       "      <td>1900</td>\n",
       "      <td>2</td>\n",
       "      <td>C7</td>\n",
       "      <td>-</td>\n",
       "      <td>12/14/2016 0:00</td>\n",
       "    </tr>\n",
       "    <tr>\n",
       "      <th>2</th>\n",
       "      <td>6</td>\n",
       "      <td>1</td>\n",
       "      <td>ALPHABET CITY</td>\n",
       "      <td>07 RENTALS - WALKUP APARTMENTS</td>\n",
       "      <td>NaN</td>\n",
       "      <td>399.0</td>\n",
       "      <td>39</td>\n",
       "      <td></td>\n",
       "      <td>C7</td>\n",
       "      <td>NaN</td>\n",
       "      <td></td>\n",
       "      <td>NaN</td>\n",
       "      <td>16</td>\n",
       "      <td>1</td>\n",
       "      <td>17</td>\n",
       "      <td>2212</td>\n",
       "      <td>7803</td>\n",
       "      <td>1900</td>\n",
       "      <td>2</td>\n",
       "      <td>C7</td>\n",
       "      <td>-</td>\n",
       "      <td>12/09/2016 0:00</td>\n",
       "    </tr>\n",
       "    <tr>\n",
       "      <th>3</th>\n",
       "      <td>7</td>\n",
       "      <td>1</td>\n",
       "      <td>ALPHABET CITY</td>\n",
       "      <td>07 RENTALS - WALKUP APARTMENTS</td>\n",
       "      <td>NaN</td>\n",
       "      <td>402.0</td>\n",
       "      <td>21</td>\n",
       "      <td></td>\n",
       "      <td>C4</td>\n",
       "      <td>NaN</td>\n",
       "      <td></td>\n",
       "      <td>NaN</td>\n",
       "      <td>10</td>\n",
       "      <td>0</td>\n",
       "      <td>10</td>\n",
       "      <td>2272</td>\n",
       "      <td>6794</td>\n",
       "      <td>1913</td>\n",
       "      <td>2</td>\n",
       "      <td>C4</td>\n",
       "      <td>3936272</td>\n",
       "      <td>9/23/2016 0:00</td>\n",
       "    </tr>\n",
       "    <tr>\n",
       "      <th>4</th>\n",
       "      <td>8</td>\n",
       "      <td>1</td>\n",
       "      <td>ALPHABET CITY</td>\n",
       "      <td>07 RENTALS - WALKUP APARTMENTS</td>\n",
       "      <td>NaN</td>\n",
       "      <td>404.0</td>\n",
       "      <td>55</td>\n",
       "      <td></td>\n",
       "      <td>C2</td>\n",
       "      <td>NaN</td>\n",
       "      <td></td>\n",
       "      <td>NaN</td>\n",
       "      <td>6</td>\n",
       "      <td>0</td>\n",
       "      <td>6</td>\n",
       "      <td>2369</td>\n",
       "      <td>4615</td>\n",
       "      <td>1900</td>\n",
       "      <td>2</td>\n",
       "      <td>C2</td>\n",
       "      <td>8000000</td>\n",
       "      <td>11/17/2016 0:00</td>\n",
       "    </tr>\n",
       "  </tbody>\n",
       "</table>\n",
       "</div>"
      ],
      "text/plain": [
       "   Unnamed: 0  BOROUGH   NEIGHBORHOOD  \\\n",
       "0           4        1  ALPHABET CITY   \n",
       "1           5        1  ALPHABET CITY   \n",
       "2           6        1  ALPHABET CITY   \n",
       "3           7        1  ALPHABET CITY   \n",
       "4           8        1  ALPHABET CITY   \n",
       "\n",
       "                       BUILDING CLASS CATEGORY TAX CLASS AT PRESENT  BLOCK  \\\n",
       "0  07 RENTALS - WALKUP APARTMENTS                                2A  392.0   \n",
       "1  07 RENTALS - WALKUP APARTMENTS                                 2  399.0   \n",
       "2  07 RENTALS - WALKUP APARTMENTS                               NaN  399.0   \n",
       "3  07 RENTALS - WALKUP APARTMENTS                               NaN  402.0   \n",
       "4  07 RENTALS - WALKUP APARTMENTS                               NaN  404.0   \n",
       "\n",
       "         LOT EASE-MENT BUILDING CLASS AT PRESENT ADDRESS APARTMENT NUMBER  \\\n",
       "0  No Number       NaN                     65000     NaN              NaN   \n",
       "1         26                                  C7     NaN                    \n",
       "2         39                                  C7     NaN                    \n",
       "3         21                                  C4     NaN                    \n",
       "4         55                                  C2     NaN                    \n",
       "\n",
       "   ZIP CODE  RESIDENTIAL UNITS  COMMERCIAL UNITS  TOTAL UNITS  \\\n",
       "0   10009.0                  5                 0            5   \n",
       "1       NaN                 28                 3           31   \n",
       "2       NaN                 16                 1           17   \n",
       "3       NaN                 10                 0           10   \n",
       "4       NaN                  6                 0            6   \n",
       "\n",
       "  LAND SQUARE FEET GROSS SQUARE FEET  YEAR BUILT  TAX CLASS AT TIME OF SALE  \\\n",
       "0             1633              6440        1900                          2   \n",
       "1             4616             18690        1900                          2   \n",
       "2             2212              7803        1900                          2   \n",
       "3             2272              6794        1913                          2   \n",
       "4             2369              4615        1900                          2   \n",
       "\n",
       "  BUILDING CLASS AT TIME OF SALE SALE PRICE        SALE DATE  \n",
       "0                             C2    6625000             why   \n",
       "1                             C7        -    12/14/2016 0:00  \n",
       "2                             C7        -    12/09/2016 0:00  \n",
       "3                             C4    3936272   9/23/2016 0:00  \n",
       "4                             C2    8000000  11/17/2016 0:00  "
      ]
     },
     "execution_count": 1982,
     "metadata": {},
     "output_type": "execute_result"
    }
   ],
   "source": [
    "df.head()"
   ]
  },
  {
   "cell_type": "markdown",
   "metadata": {},
   "source": [
    "# Removing Unnecessary coloumns"
   ]
  },
  {
   "cell_type": "code",
   "execution_count": 1983,
   "metadata": {
    "scrolled": true
   },
   "outputs": [],
   "source": [
    "df.drop([\"EASE-MENT\"], axis=1, inplace=True)         #Cause the entire coloumn is blank & \n",
    "                                                     #and no description available in the Finance department file\n",
    "df.drop([\"Unnamed: 0\"], axis=1, inplace=True)        #Cause it has no unique values\n",
    "df.drop([\"APARTMENT NUMBER\"], axis=1, inplace=True)  #Coloumn is black and no description available in the\n",
    "                                                     #Finance department file"
   ]
  },
  {
   "cell_type": "markdown",
   "metadata": {},
   "source": [
    "# Making a coloumn for unique value in the data frame"
   ]
  },
  {
   "cell_type": "code",
   "execution_count": 1984,
   "metadata": {},
   "outputs": [],
   "source": [
    "df['SALE_ID'] = df.index"
   ]
  },
  {
   "cell_type": "markdown",
   "metadata": {},
   "source": [
    "# Creating a function for information of each coloumn"
   ]
  },
  {
   "cell_type": "code",
   "execution_count": 1985,
   "metadata": {},
   "outputs": [],
   "source": [
    "def infocol(df,col):\n",
    "    a=df[col].isnull().sum()\n",
    "    b=len(df[col].unique())\n",
    "    c=df[col].is_unique\n",
    "    d=df[col].dtypes  \n",
    "    return print(col, \"\\nNull Values:\", a,\"\\nNo. of uniques:\",b,\"\\nUnique key:\",c,\"\\nType:\",d)"
   ]
  },
  {
   "cell_type": "code",
   "execution_count": 1986,
   "metadata": {},
   "outputs": [],
   "source": [
    "def ranges(df,col):\n",
    "    e=df[col].min()\n",
    "    f=df[col].max()\n",
    "    g=df[col].mean()\n",
    "    h=df[col].median()\n",
    "    i=df[col].mode()\n",
    "    return print(col,\"\\nMin: \",e,\"\\nMax: \", f,\"\\nMean: \",g,\"\\nMedian: \",h,\"\\nMode: \",i) "
   ]
  },
  {
   "cell_type": "code",
   "execution_count": 1987,
   "metadata": {},
   "outputs": [
    {
     "data": {
      "text/plain": [
       "BOROUGH                            0\n",
       "NEIGHBORHOOD                      30\n",
       "BUILDING CLASS CATEGORY           51\n",
       "TAX CLASS AT PRESENT               7\n",
       "BLOCK                             16\n",
       "LOT                                0\n",
       "BUILDING CLASS AT PRESENT          0\n",
       "ADDRESS                           45\n",
       "ZIP CODE                          36\n",
       "RESIDENTIAL UNITS                  0\n",
       "COMMERCIAL UNITS                   0\n",
       "TOTAL UNITS                        0\n",
       "LAND SQUARE FEET                   0\n",
       "GROSS SQUARE FEET                  0\n",
       "YEAR BUILT                         0\n",
       "TAX CLASS AT TIME OF SALE          0\n",
       "BUILDING CLASS AT TIME OF SALE     0\n",
       "SALE PRICE                         0\n",
       "SALE DATE                          0\n",
       "SALE_ID                            0\n",
       "dtype: int64"
      ]
     },
     "execution_count": 1987,
     "metadata": {},
     "output_type": "execute_result"
    }
   ],
   "source": [
    "df.isnull().sum()"
   ]
  },
  {
   "cell_type": "code",
   "execution_count": null,
   "metadata": {},
   "outputs": [],
   "source": []
  },
  {
   "cell_type": "markdown",
   "metadata": {},
   "source": [
    "# 1.1 BOROUGH  (Dealing with data entry errors)"
   ]
  },
  {
   "cell_type": "code",
   "execution_count": 1988,
   "metadata": {},
   "outputs": [
    {
     "name": "stdout",
     "output_type": "stream",
     "text": [
      "BOROUGH \n",
      "Null Values: 0 \n",
      "No. of uniques: 5 \n",
      "Unique key: False \n",
      "Type: int64\n"
     ]
    }
   ],
   "source": [
    "infocol(df,\"BOROUGH\")"
   ]
  },
  {
   "cell_type": "code",
   "execution_count": 1989,
   "metadata": {},
   "outputs": [],
   "source": [
    "df['BOROUGH'].replace(1,\"Manhattan\" , inplace=True) "
   ]
  },
  {
   "cell_type": "code",
   "execution_count": 1990,
   "metadata": {},
   "outputs": [],
   "source": [
    "df['BOROUGH'].replace(2,\"Bronx\" , inplace=True) "
   ]
  },
  {
   "cell_type": "code",
   "execution_count": 1991,
   "metadata": {},
   "outputs": [],
   "source": [
    "df['BOROUGH'].replace(3,\"Brooklyn\" , inplace=True) "
   ]
  },
  {
   "cell_type": "code",
   "execution_count": 1992,
   "metadata": {},
   "outputs": [],
   "source": [
    "df['BOROUGH'].replace(4,\"Queens\" , inplace=True) "
   ]
  },
  {
   "cell_type": "code",
   "execution_count": 1993,
   "metadata": {},
   "outputs": [],
   "source": [
    "df['BOROUGH'].replace(5,\"Staten Island \" , inplace=True) "
   ]
  },
  {
   "cell_type": "code",
   "execution_count": 1994,
   "metadata": {},
   "outputs": [
    {
     "data": {
      "text/plain": [
       "Queens            26736\n",
       "Brooklyn          24047\n",
       "Manhattan         18306\n",
       "Staten Island      8410\n",
       "Bronx              7049\n",
       "Name: BOROUGH, dtype: int64"
      ]
     },
     "execution_count": 1994,
     "metadata": {},
     "output_type": "execute_result"
    }
   ],
   "source": [
    "df['BOROUGH'].value_counts()"
   ]
  },
  {
   "cell_type": "code",
   "execution_count": 1995,
   "metadata": {},
   "outputs": [
    {
     "data": {
      "text/plain": [
       "<AxesSubplot:>"
      ]
     },
     "execution_count": 1995,
     "metadata": {},
     "output_type": "execute_result"
    },
    {
     "data": {
      "image/png": "[encoded data removed]",
      "text/plain": [
       "<Figure size 432x288 with 1 Axes>"
      ]
     },
     "metadata": {
      "needs_background": "light"
     },
     "output_type": "display_data"
    }
   ],
   "source": [
    "df['BOROUGH'].value_counts().plot(kind='bar')\n",
    "#This shows that no. of building sold is maximum in Queens and minimum in Bronx"
   ]
  },
  {
   "cell_type": "markdown",
   "metadata": {},
   "source": [
    "# 2.1 NEIGHBORHOOD (Dealing with data entry errors)"
   ]
  },
  {
   "cell_type": "code",
   "execution_count": 1996,
   "metadata": {},
   "outputs": [
    {
     "name": "stdout",
     "output_type": "stream",
     "text": [
      "NEIGHBORHOOD \n",
      "Null Values: 30 \n",
      "No. of uniques: 255 \n",
      "Unique key: False \n",
      "Type: object\n"
     ]
    }
   ],
   "source": [
    "infocol(df,\"NEIGHBORHOOD\")"
   ]
  },
  {
   "cell_type": "code",
   "execution_count": 1997,
   "metadata": {},
   "outputs": [],
   "source": [
    "df['NEIGHBORHOOD'].replace(' ', pd.NaT, inplace=True)"
   ]
  },
  {
   "cell_type": "code",
   "execution_count": 1998,
   "metadata": {},
   "outputs": [
    {
     "name": "stdout",
     "output_type": "stream",
     "text": [
      "NEIGHBORHOOD \n",
      "Null Values: 30 \n",
      "No. of uniques: 255 \n",
      "Unique key: False \n",
      "Type: object\n"
     ]
    }
   ],
   "source": [
    "infocol(df,\"NEIGHBORHOOD\")"
   ]
  },
  {
   "cell_type": "markdown",
   "metadata": {},
   "source": [
    "#### NEIGHBORHOOD coloumn doesnot contain any data entry errors"
   ]
  },
  {
   "cell_type": "markdown",
   "metadata": {},
   "source": [
    "# 3.1 BUILDING CLASS CATEGORY (Dealing with data entry errors)"
   ]
  },
  {
   "cell_type": "code",
   "execution_count": 1999,
   "metadata": {},
   "outputs": [
    {
     "data": {
      "text/plain": [
       "51"
      ]
     },
     "execution_count": 1999,
     "metadata": {},
     "output_type": "execute_result"
    }
   ],
   "source": [
    "df['BUILDING CLASS CATEGORY'].isnull().sum()"
   ]
  },
  {
   "cell_type": "code",
   "execution_count": 2000,
   "metadata": {},
   "outputs": [
    {
     "data": {
      "text/plain": [
       "01 ONE FAMILY DWELLINGS                        18235\n",
       "02 TWO FAMILY DWELLINGS                        15828\n",
       "13 CONDOS - ELEVATOR APARTMENTS                12989\n",
       "10 COOPS - ELEVATOR APARTMENTS                 12902\n",
       "03 THREE FAMILY DWELLINGS                       4348\n",
       "Name: BUILDING CLASS CATEGORY, dtype: int64"
      ]
     },
     "execution_count": 2000,
     "metadata": {},
     "output_type": "execute_result"
    }
   ],
   "source": [
    "df['BUILDING CLASS CATEGORY'].value_counts().head() #The numbers at the start of\n",
    "                                                    #each values dont make any sense, we must get rid of them"
   ]
  },
  {
   "cell_type": "code",
   "execution_count": 2001,
   "metadata": {},
   "outputs": [],
   "source": [
    "df['BUILDING CLASS CATEGORY'] = df['BUILDING CLASS CATEGORY'].str.replace('\\d+', '') #Getting rid of unnecessary numbers"
   ]
  },
  {
   "cell_type": "code",
   "execution_count": 2002,
   "metadata": {},
   "outputs": [
    {
     "data": {
      "text/plain": [
       " ONE FAMILY DWELLINGS                        18235\n",
       " TWO FAMILY DWELLINGS                        15828\n",
       " CONDOS - ELEVATOR APARTMENTS                12989\n",
       " COOPS - ELEVATOR APARTMENTS                 12902\n",
       " THREE FAMILY DWELLINGS                       4348\n",
       "Name: BUILDING CLASS CATEGORY, dtype: int64"
      ]
     },
     "execution_count": 2002,
     "metadata": {},
     "output_type": "execute_result"
    }
   ],
   "source": [
    "df['BUILDING CLASS CATEGORY'].value_counts().head()"
   ]
  },
  {
   "cell_type": "code",
   "execution_count": 2003,
   "metadata": {},
   "outputs": [
    {
     "data": {
      "text/plain": [
       "<AxesSubplot:>"
      ]
     },
     "execution_count": 2003,
     "metadata": {},
     "output_type": "execute_result"
    },
    {
     "data": {
      "image/png": "[encoded data removed]",
      "text/plain": [
       "<Figure size 432x288 with 1 Axes>"
      ]
     },
     "metadata": {
      "needs_background": "light"
     },
     "output_type": "display_data"
    }
   ],
   "source": [
    "df['BUILDING CLASS CATEGORY'].value_counts().plot(kind='bar')\n",
    "#Which shows one family homes are the most bought category of property"
   ]
  },
  {
   "cell_type": "markdown",
   "metadata": {},
   "source": [
    "# 4.1 TAX CLASS AT PRESENT (Dealing with data entry errors)"
   ]
  },
  {
   "cell_type": "code",
   "execution_count": 2004,
   "metadata": {},
   "outputs": [
    {
     "data": {
      "text/plain": [
       "1     38633\n",
       "2     30915\n",
       "4      6140\n",
       "2A     2520\n",
       "2C     1915\n",
       "1A     1444\n",
       "1B     1234\n",
       "2B      812\n",
       "        738\n",
       "1C      186\n",
       "3         4\n",
       "Name: TAX CLASS AT PRESENT, dtype: int64"
      ]
     },
     "execution_count": 2004,
     "metadata": {},
     "output_type": "execute_result"
    }
   ],
   "source": [
    "df['TAX CLASS AT PRESENT'].value_counts()"
   ]
  },
  {
   "cell_type": "code",
   "execution_count": 2005,
   "metadata": {},
   "outputs": [],
   "source": [
    "df.loc[df['TAX CLASS AT PRESENT'] == '1A' , 'TAX CLASS AT PRESENT'] = \"1\"\n",
    "df.loc[df['TAX CLASS AT PRESENT'] == '1B' , 'TAX CLASS AT PRESENT'] = \"1\"\n",
    "df.loc[df['TAX CLASS AT PRESENT'] == '1C' , 'TAX CLASS AT PRESENT'] = \"1\"\n",
    "df.loc[df['TAX CLASS AT PRESENT'] == '2A' , 'TAX CLASS AT PRESENT'] = \"2\"\n",
    "df.loc[df['TAX CLASS AT PRESENT'] == '2B' , 'TAX CLASS AT PRESENT'] = \"2\"\n",
    "df.loc[df['TAX CLASS AT PRESENT'] == '2C' , 'TAX CLASS AT PRESENT'] = \"2\""
   ]
  },
  {
   "cell_type": "code",
   "execution_count": 2006,
   "metadata": {},
   "outputs": [
    {
     "data": {
      "text/plain": [
       "7"
      ]
     },
     "execution_count": 2006,
     "metadata": {},
     "output_type": "execute_result"
    }
   ],
   "source": [
    "df['TAX CLASS AT PRESENT'].isnull().sum()"
   ]
  },
  {
   "cell_type": "code",
   "execution_count": 2007,
   "metadata": {},
   "outputs": [],
   "source": [
    "df['TAX CLASS AT PRESENT'].replace(' ', np.nan, inplace=True) #CHecking if there are any blank values"
   ]
  },
  {
   "cell_type": "code",
   "execution_count": 2008,
   "metadata": {},
   "outputs": [
    {
     "data": {
      "text/plain": [
       "745"
      ]
     },
     "execution_count": 2008,
     "metadata": {},
     "output_type": "execute_result"
    }
   ],
   "source": [
    "df['TAX CLASS AT PRESENT'].isnull().sum() #damn!!! 745!!!!!"
   ]
  },
  {
   "cell_type": "code",
   "execution_count": 2009,
   "metadata": {},
   "outputs": [
    {
     "data": {
      "text/plain": [
       "1    41497\n",
       "2    36162\n",
       "4     6140\n",
       "3        4\n",
       "Name: TAX CLASS AT PRESENT, dtype: int64"
      ]
     },
     "execution_count": 2009,
     "metadata": {},
     "output_type": "execute_result"
    }
   ],
   "source": [
    "df['TAX CLASS AT PRESENT'].value_counts()"
   ]
  },
  {
   "cell_type": "code",
   "execution_count": 2010,
   "metadata": {},
   "outputs": [
    {
     "data": {
      "text/plain": [
       "<AxesSubplot:>"
      ]
     },
     "execution_count": 2010,
     "metadata": {},
     "output_type": "execute_result"
    },
    {
     "data": {
      "image/png": "[encoded data removed]",
      "text/plain": [
       "<Figure size 432x288 with 1 Axes>"
      ]
     },
     "metadata": {
      "needs_background": "light"
     },
     "output_type": "display_data"
    }
   ],
   "source": [
    "df['TAX CLASS AT PRESENT'].value_counts().plot(kind='bar')\n",
    "#Which shows that most buildings are chrged with class 1 tax class"
   ]
  },
  {
   "cell_type": "markdown",
   "metadata": {},
   "source": [
    "# 5.1 BLOCK (Dealing with data entry errors)"
   ]
  },
  {
   "cell_type": "code",
   "execution_count": 2011,
   "metadata": {},
   "outputs": [
    {
     "name": "stdout",
     "output_type": "stream",
     "text": [
      "BLOCK \n",
      "Null Values: 16 \n",
      "No. of uniques: 11567 \n",
      "Unique key: False \n",
      "Type: float64\n"
     ]
    }
   ],
   "source": [
    "infocol(df,\"BLOCK\")"
   ]
  },
  {
   "cell_type": "code",
   "execution_count": 2012,
   "metadata": {},
   "outputs": [
    {
     "data": {
      "text/plain": [
       "5066.0     404\n",
       "16.0       255\n",
       "2135.0     211\n",
       "4978.0     187\n",
       "1171.0     181\n",
       "          ... \n",
       "16194.0      1\n",
       "10386.0      1\n",
       "1898.0       1\n",
       "14027.0      1\n",
       "11994.0      1\n",
       "Name: BLOCK, Length: 11566, dtype: int64"
      ]
     },
     "execution_count": 2012,
     "metadata": {},
     "output_type": "execute_result"
    }
   ],
   "source": [
    "df[\"BLOCK\"].value_counts()"
   ]
  },
  {
   "cell_type": "code",
   "execution_count": 2013,
   "metadata": {},
   "outputs": [],
   "source": [
    "df['BLOCK'].replace(' ', np.nan, inplace=True) #CHecking if there are any blank values"
   ]
  },
  {
   "cell_type": "code",
   "execution_count": 2014,
   "metadata": {},
   "outputs": [
    {
     "data": {
      "text/plain": [
       "16"
      ]
     },
     "execution_count": 2014,
     "metadata": {},
     "output_type": "execute_result"
    }
   ],
   "source": [
    "df['BLOCK'].isnull().sum()"
   ]
  },
  {
   "cell_type": "code",
   "execution_count": 2015,
   "metadata": {},
   "outputs": [],
   "source": [
    "df['BLOCK'] =pd.to_numeric(df['BLOCK'], errors='coerce')"
   ]
  },
  {
   "cell_type": "code",
   "execution_count": 2016,
   "metadata": {},
   "outputs": [
    {
     "data": {
      "text/plain": [
       "16"
      ]
     },
     "execution_count": 2016,
     "metadata": {},
     "output_type": "execute_result"
    }
   ],
   "source": [
    "df['BLOCK'].isnull().sum()"
   ]
  },
  {
   "cell_type": "markdown",
   "metadata": {},
   "source": [
    "It was cleaned originally"
   ]
  },
  {
   "cell_type": "markdown",
   "metadata": {},
   "source": [
    "# 6.1 LOT (Dealing with data entry errors)"
   ]
  },
  {
   "cell_type": "code",
   "execution_count": 2017,
   "metadata": {},
   "outputs": [
    {
     "data": {
      "text/plain": [
       "0"
      ]
     },
     "execution_count": 2017,
     "metadata": {},
     "output_type": "execute_result"
    }
   ],
   "source": [
    "df['LOT'].isnull().sum() #Chechking the number of nulls at initial level"
   ]
  },
  {
   "cell_type": "code",
   "execution_count": 2018,
   "metadata": {},
   "outputs": [
    {
     "data": {
      "text/plain": [
       "0"
      ]
     },
     "execution_count": 2018,
     "metadata": {},
     "output_type": "execute_result"
    }
   ],
   "source": [
    "df['LOT'].replace(' ', pd.NaT, inplace=True) #Converting any blank spaces with null values\n",
    "df['LOT'].isnull().sum() #Checking if the above statement add any null values in the coloumn"
   ]
  },
  {
   "cell_type": "code",
   "execution_count": 2019,
   "metadata": {},
   "outputs": [
    {
     "data": {
      "text/plain": [
       "10"
      ]
     },
     "execution_count": 2019,
     "metadata": {},
     "output_type": "execute_result"
    }
   ],
   "source": [
    "df['LOT'] =pd.to_numeric(df['LOT'], errors='coerce')\n",
    "#Those values which cannot be converted into numeric are replaced with nulls\n",
    "df['LOT'].isnull().sum()"
   ]
  },
  {
   "cell_type": "markdown",
   "metadata": {},
   "source": [
    "# 7.1 BUILDING CLASS AT PRESENT (Dealing with data entry errors)"
   ]
  },
  {
   "cell_type": "code",
   "execution_count": 2020,
   "metadata": {},
   "outputs": [
    {
     "data": {
      "text/plain": [
       "0"
      ]
     },
     "execution_count": 2020,
     "metadata": {},
     "output_type": "execute_result"
    }
   ],
   "source": [
    "df['BUILDING CLASS AT PRESENT'].isnull().sum() #Chechking the number of nulls at initial level"
   ]
  },
  {
   "cell_type": "markdown",
   "metadata": {},
   "source": [
    "There is one numeric value of 65000 in this coloumn, we can easily replace it, but dont know if there are more \n",
    "numeric values down the coloumn"
   ]
  },
  {
   "cell_type": "code",
   "execution_count": 2021,
   "metadata": {},
   "outputs": [
    {
     "data": {
      "text/plain": [
       "65000.0    1\n",
       "Name: BUILDING CLASS AT PRESENT, dtype: int64"
      ]
     },
     "execution_count": 2021,
     "metadata": {},
     "output_type": "execute_result"
    }
   ],
   "source": [
    "a=pd.to_numeric(df['BUILDING CLASS AT PRESENT'], errors='coerce')\n",
    "a.value_counts() #65000 is the only one"
   ]
  },
  {
   "cell_type": "code",
   "execution_count": 2022,
   "metadata": {},
   "outputs": [
    {
     "data": {
      "text/plain": [
       "1"
      ]
     },
     "execution_count": 2022,
     "metadata": {},
     "output_type": "execute_result"
    }
   ],
   "source": [
    "df['BUILDING CLASS AT PRESENT'].replace('65000', pd.NaT, inplace=True)\n",
    "df['BUILDING CLASS AT PRESENT'].isnull().sum()"
   ]
  },
  {
   "cell_type": "markdown",
   "metadata": {},
   "source": [
    "# 8.1 ADDRESS (Dealing with data entry errors)"
   ]
  },
  {
   "cell_type": "code",
   "execution_count": 2023,
   "metadata": {},
   "outputs": [
    {
     "data": {
      "text/plain": [
       "45"
      ]
     },
     "execution_count": 2023,
     "metadata": {},
     "output_type": "execute_result"
    }
   ],
   "source": [
    "df['ADDRESS'].isnull().sum()"
   ]
  },
  {
   "cell_type": "code",
   "execution_count": 2024,
   "metadata": {},
   "outputs": [
    {
     "data": {
      "text/plain": [
       "45"
      ]
     },
     "execution_count": 2024,
     "metadata": {},
     "output_type": "execute_result"
    }
   ],
   "source": [
    "df['ADDRESS'].replace(' ', pd.NaT, inplace=True) #Converting any blank spaces with null values\n",
    "df['ADDRESS'].isnull().sum() #Checking if the above statement add any null values in the coloumn"
   ]
  },
  {
   "cell_type": "markdown",
   "metadata": {},
   "source": [
    "There were no data entry errors"
   ]
  },
  {
   "cell_type": "markdown",
   "metadata": {},
   "source": [
    "# 9.1 ZIP CODE (Dealing with data entry errors)"
   ]
  },
  {
   "cell_type": "code",
   "execution_count": 2025,
   "metadata": {},
   "outputs": [
    {
     "data": {
      "text/plain": [
       "36"
      ]
     },
     "execution_count": 2025,
     "metadata": {},
     "output_type": "execute_result"
    }
   ],
   "source": [
    "df['ZIP CODE'].isnull().sum()"
   ]
  },
  {
   "cell_type": "code",
   "execution_count": 2026,
   "metadata": {},
   "outputs": [
    {
     "data": {
      "text/plain": [
       "36"
      ]
     },
     "execution_count": 2026,
     "metadata": {},
     "output_type": "execute_result"
    }
   ],
   "source": [
    "df['ZIP CODE'] =pd.to_numeric(df['ZIP CODE'], errors='coerce')\n",
    "df['ZIP CODE'].isnull().sum()"
   ]
  },
  {
   "cell_type": "code",
   "execution_count": 2027,
   "metadata": {},
   "outputs": [
    {
     "data": {
      "text/plain": [
       "36"
      ]
     },
     "execution_count": 2027,
     "metadata": {},
     "output_type": "execute_result"
    }
   ],
   "source": [
    "df['ZIP CODE'].replace(' ', pd.NaT, inplace=True) #Converting any blank spaces with null values\n",
    "df['ZIP CODE'].isnull().sum() #Checking if the above statement add any null values in the coloumn"
   ]
  },
  {
   "cell_type": "code",
   "execution_count": 2028,
   "metadata": {},
   "outputs": [
    {
     "data": {
      "text/plain": [
       "1018"
      ]
     },
     "execution_count": 2028,
     "metadata": {},
     "output_type": "execute_result"
    }
   ],
   "source": [
    "df['ZIP CODE'].replace(0, pd.NaT, inplace=True) #Converting zeros with null values\n",
    "df['ZIP CODE'].isnull().sum() #Checking if the above statement add any null values in the coloumn"
   ]
  },
  {
   "cell_type": "markdown",
   "metadata": {},
   "source": [
    "# 10.1  RESIDENTIAL UNITS (Dealing with data entry errors)"
   ]
  },
  {
   "cell_type": "code",
   "execution_count": 2029,
   "metadata": {},
   "outputs": [
    {
     "data": {
      "text/plain": [
       "0"
      ]
     },
     "execution_count": 2029,
     "metadata": {},
     "output_type": "execute_result"
    }
   ],
   "source": [
    "df['RESIDENTIAL UNITS'].isnull().sum()"
   ]
  },
  {
   "cell_type": "code",
   "execution_count": 2030,
   "metadata": {},
   "outputs": [
    {
     "data": {
      "text/plain": [
       "0"
      ]
     },
     "execution_count": 2030,
     "metadata": {},
     "output_type": "execute_result"
    }
   ],
   "source": [
    "df['RESIDENTIAL UNITS'] =pd.to_numeric(df['RESIDENTIAL UNITS'], errors='coerce')\n",
    "df['RESIDENTIAL UNITS'].isnull().sum()"
   ]
  },
  {
   "cell_type": "code",
   "execution_count": 2031,
   "metadata": {},
   "outputs": [
    {
     "data": {
      "text/plain": [
       "0"
      ]
     },
     "execution_count": 2031,
     "metadata": {},
     "output_type": "execute_result"
    }
   ],
   "source": [
    "df['RESIDENTIAL UNITS'].replace(' ', pd.NaT, inplace=True) #Converting any blank spaces with null values\n",
    "df['RESIDENTIAL UNITS'].isnull().sum() #Checking if the above statement add any null values in the coloumn"
   ]
  },
  {
   "cell_type": "markdown",
   "metadata": {},
   "source": [
    "There are no data entry errors"
   ]
  },
  {
   "cell_type": "markdown",
   "metadata": {},
   "source": [
    "# 11.1  COMMERCIAL UNITS (Dealing with data entry errors)"
   ]
  },
  {
   "cell_type": "code",
   "execution_count": 2032,
   "metadata": {},
   "outputs": [
    {
     "data": {
      "text/plain": [
       "0"
      ]
     },
     "execution_count": 2032,
     "metadata": {},
     "output_type": "execute_result"
    }
   ],
   "source": [
    "df['COMMERCIAL UNITS'].isnull().sum()"
   ]
  },
  {
   "cell_type": "code",
   "execution_count": 2033,
   "metadata": {},
   "outputs": [
    {
     "data": {
      "text/plain": [
       "0"
      ]
     },
     "execution_count": 2033,
     "metadata": {},
     "output_type": "execute_result"
    }
   ],
   "source": [
    "df['COMMERCIAL UNITS'] =pd.to_numeric(df['COMMERCIAL UNITS'], errors='coerce')\n",
    "df['COMMERCIAL UNITS'].isnull().sum()"
   ]
  },
  {
   "cell_type": "code",
   "execution_count": 2034,
   "metadata": {},
   "outputs": [
    {
     "data": {
      "text/plain": [
       "0"
      ]
     },
     "execution_count": 2034,
     "metadata": {},
     "output_type": "execute_result"
    }
   ],
   "source": [
    "df['RESIDENTIAL UNITS'].replace(' ', pd.NaT, inplace=True) #Converting any blank spaces with null values\n",
    "df['RESIDENTIAL UNITS'].isnull().sum() #Checking if the above statement add any null values in the coloumn"
   ]
  },
  {
   "cell_type": "markdown",
   "metadata": {},
   "source": [
    "There are no data entry errors"
   ]
  },
  {
   "cell_type": "markdown",
   "metadata": {},
   "source": [
    "# 12.1  TOTAL UNITS (Dealing with data entry errors)"
   ]
  },
  {
   "cell_type": "code",
   "execution_count": 2035,
   "metadata": {},
   "outputs": [
    {
     "data": {
      "text/plain": [
       "0"
      ]
     },
     "execution_count": 2035,
     "metadata": {},
     "output_type": "execute_result"
    }
   ],
   "source": [
    "df['TOTAL UNITS'].isnull().sum()"
   ]
  },
  {
   "cell_type": "code",
   "execution_count": 2036,
   "metadata": {},
   "outputs": [
    {
     "data": {
      "text/plain": [
       "0"
      ]
     },
     "execution_count": 2036,
     "metadata": {},
     "output_type": "execute_result"
    }
   ],
   "source": [
    "df['TOTAL UNITS'] =pd.to_numeric(df['TOTAL UNITS'], errors='coerce')\n",
    "df['TOTAL UNITS'].isnull().sum()"
   ]
  },
  {
   "cell_type": "code",
   "execution_count": 2037,
   "metadata": {},
   "outputs": [
    {
     "data": {
      "text/plain": [
       "0"
      ]
     },
     "execution_count": 2037,
     "metadata": {},
     "output_type": "execute_result"
    }
   ],
   "source": [
    "df['TOTAL UNITS'].replace(' ', pd.NaT, inplace=True) #Converting any blank spaces with null values\n",
    "df['TOTAL UNITS'].isnull().sum() #Checking if the above statement add any null values in the coloumn"
   ]
  },
  {
   "cell_type": "markdown",
   "metadata": {},
   "source": [
    "There are no data entry errors"
   ]
  },
  {
   "cell_type": "markdown",
   "metadata": {},
   "source": [
    "# 13.1 LAND SQUARE FEET (Dealing with data entry errors)"
   ]
  },
  {
   "cell_type": "code",
   "execution_count": 2038,
   "metadata": {},
   "outputs": [
    {
     "data": {
      "text/plain": [
       "0"
      ]
     },
     "execution_count": 2038,
     "metadata": {},
     "output_type": "execute_result"
    }
   ],
   "source": [
    "df['LAND SQUARE FEET'].isnull().sum() #Chechking the number of nulls at initial level"
   ]
  },
  {
   "cell_type": "code",
   "execution_count": 2039,
   "metadata": {},
   "outputs": [
    {
     "data": {
      "text/plain": [
       "26252"
      ]
     },
     "execution_count": 2039,
     "metadata": {},
     "output_type": "execute_result"
    }
   ],
   "source": [
    "df['LAND SQUARE FEET'] =pd.to_numeric(df['LAND SQUARE FEET'], errors='coerce')\n",
    "#Those values which cannot be converted into numeric are replaced with nulls\n",
    "df['LAND SQUARE FEET'].isnull().sum()"
   ]
  },
  {
   "cell_type": "code",
   "execution_count": 2040,
   "metadata": {},
   "outputs": [
    {
     "data": {
      "text/plain": [
       "26252"
      ]
     },
     "execution_count": 2040,
     "metadata": {},
     "output_type": "execute_result"
    }
   ],
   "source": [
    "df['LAND SQUARE FEET'].replace(' ', pd.NaT, inplace=True) #Converting any blank spaces with null values\n",
    "df['LAND SQUARE FEET'].isnull().sum() #Checking if the above statement add any null values in the coloumn"
   ]
  },
  {
   "cell_type": "code",
   "execution_count": 2041,
   "metadata": {},
   "outputs": [
    {
     "data": {
      "text/plain": [
       "36578"
      ]
     },
     "execution_count": 2041,
     "metadata": {},
     "output_type": "execute_result"
    }
   ],
   "source": [
    "df['LAND SQUARE FEET'].replace(0, pd.NaT, inplace=True) #Converting zeros with null values\n",
    "df['LAND SQUARE FEET'].isnull().sum() #Checking if the above statement add any null values in the coloumn"
   ]
  },
  {
   "cell_type": "markdown",
   "metadata": {},
   "source": [
    "# 14.1 GROSS SQUARE FEET (Dealing with data entry errors)"
   ]
  },
  {
   "cell_type": "code",
   "execution_count": 2042,
   "metadata": {},
   "outputs": [
    {
     "data": {
      "text/plain": [
       "0"
      ]
     },
     "execution_count": 2042,
     "metadata": {},
     "output_type": "execute_result"
    }
   ],
   "source": [
    "df['GROSS SQUARE FEET'].isnull().sum() #Chechking the number of nulls at initial level"
   ]
  },
  {
   "cell_type": "code",
   "execution_count": 2043,
   "metadata": {},
   "outputs": [
    {
     "data": {
      "text/plain": [
       "27612"
      ]
     },
     "execution_count": 2043,
     "metadata": {},
     "output_type": "execute_result"
    }
   ],
   "source": [
    "df['GROSS SQUARE FEET'] =pd.to_numeric(df['GROSS SQUARE FEET'], errors='coerce')\n",
    "#Those values which cannot be converted into numeric are replaced with nulls\n",
    "df['GROSS SQUARE FEET'].isnull().sum()"
   ]
  },
  {
   "cell_type": "code",
   "execution_count": 2044,
   "metadata": {},
   "outputs": [
    {
     "data": {
      "text/plain": [
       "27612"
      ]
     },
     "execution_count": 2044,
     "metadata": {},
     "output_type": "execute_result"
    }
   ],
   "source": [
    "df['GROSS SQUARE FEET'].replace(' ', pd.NaT, inplace=True) #Converting any blank spaces with null values\n",
    "df['GROSS SQUARE FEET'].isnull().sum() #Checking if the above statement add any null values in the coloumn"
   ]
  },
  {
   "cell_type": "code",
   "execution_count": 2045,
   "metadata": {},
   "outputs": [
    {
     "data": {
      "text/plain": [
       "39029"
      ]
     },
     "execution_count": 2045,
     "metadata": {},
     "output_type": "execute_result"
    }
   ],
   "source": [
    "df['GROSS SQUARE FEET'].replace(0, pd.NaT, inplace=True) #Converting zeros with null values\n",
    "df['GROSS SQUARE FEET'].isnull().sum() #Checking if the above statement add any null values in the coloumn"
   ]
  },
  {
   "cell_type": "markdown",
   "metadata": {},
   "source": [
    "# 15.1 YEAR BUILT (Dealing with data entry errors)"
   ]
  },
  {
   "cell_type": "code",
   "execution_count": 2046,
   "metadata": {},
   "outputs": [
    {
     "data": {
      "text/plain": [
       "0"
      ]
     },
     "execution_count": 2046,
     "metadata": {},
     "output_type": "execute_result"
    }
   ],
   "source": [
    "df['YEAR BUILT'].isnull().sum() #Chechking the number of nulls at initial level"
   ]
  },
  {
   "cell_type": "code",
   "execution_count": 2047,
   "metadata": {},
   "outputs": [
    {
     "data": {
      "text/plain": [
       "0"
      ]
     },
     "execution_count": 2047,
     "metadata": {},
     "output_type": "execute_result"
    }
   ],
   "source": [
    "df['YEAR BUILT'] =pd.to_numeric(df['YEAR BUILT'], errors='coerce')\n",
    "#Those values which cannot be converted into numeric are replaced with nulls\n",
    "df['YEAR BUILT'].isnull().sum()"
   ]
  },
  {
   "cell_type": "code",
   "execution_count": 2048,
   "metadata": {},
   "outputs": [
    {
     "data": {
      "text/plain": [
       "0"
      ]
     },
     "execution_count": 2048,
     "metadata": {},
     "output_type": "execute_result"
    }
   ],
   "source": [
    "df['YEAR BUILT'].replace(' ', pd.NaT, inplace=True) #Converting any blank spaces with null values\n",
    "df['YEAR BUILT'].isnull().sum() #Checking if the above statement add any null values in the coloumn"
   ]
  },
  {
   "cell_type": "code",
   "execution_count": 2049,
   "metadata": {},
   "outputs": [
    {
     "data": {
      "text/plain": [
       "6970"
      ]
     },
     "execution_count": 2049,
     "metadata": {},
     "output_type": "execute_result"
    }
   ],
   "source": [
    "df['YEAR BUILT'].replace(0, pd.NaT, inplace=True) #Converting any zeros with null values\n",
    "df['YEAR BUILT'].isnull().sum() #Checking if the above statement add any null values in the coloumn"
   ]
  },
  {
   "cell_type": "markdown",
   "metadata": {},
   "source": [
    "## Data type change"
   ]
  },
  {
   "cell_type": "code",
   "execution_count": 2050,
   "metadata": {},
   "outputs": [
    {
     "data": {
      "text/plain": [
       "6970"
      ]
     },
     "execution_count": 2050,
     "metadata": {},
     "output_type": "execute_result"
    }
   ],
   "source": [
    "df['YEAR BUILT'] =pd.to_datetime(df['YEAR BUILT'], errors='coerce')\n",
    "#Those values which cannot be converted into numeric are replaced with nulls\n",
    "df['YEAR BUILT'].isnull().sum()"
   ]
  },
  {
   "cell_type": "markdown",
   "metadata": {},
   "source": [
    "# 16.1 TAX CLASS AT TIME OF SALE (Dealing with data entry errors)"
   ]
  },
  {
   "cell_type": "code",
   "execution_count": 2051,
   "metadata": {},
   "outputs": [
    {
     "data": {
      "text/plain": [
       "1    41533\n",
       "2    36726\n",
       "4     6285\n",
       "3        4\n",
       "Name: TAX CLASS AT TIME OF SALE, dtype: int64"
      ]
     },
     "execution_count": 2051,
     "metadata": {},
     "output_type": "execute_result"
    }
   ],
   "source": [
    "df['TAX CLASS AT TIME OF SALE'].value_counts()"
   ]
  },
  {
   "cell_type": "code",
   "execution_count": 2052,
   "metadata": {},
   "outputs": [
    {
     "data": {
      "text/plain": [
       "0"
      ]
     },
     "execution_count": 2052,
     "metadata": {},
     "output_type": "execute_result"
    }
   ],
   "source": [
    "df['TAX CLASS AT TIME OF SALE'].replace(' ', pd.NaT, inplace=True) #Converting any blank spaces with null values\n",
    "df['TAX CLASS AT TIME OF SALE'].isnull().sum() #means there were no blank spaces too"
   ]
  },
  {
   "cell_type": "code",
   "execution_count": 2053,
   "metadata": {},
   "outputs": [
    {
     "data": {
      "text/plain": [
       "0"
      ]
     },
     "execution_count": 2053,
     "metadata": {},
     "output_type": "execute_result"
    }
   ],
   "source": [
    "df['TAX CLASS AT TIME OF SALE'].replace(0, pd.NaT, inplace=True) #Converting any zeros with null values\n",
    "df['TAX CLASS AT TIME OF SALE'].isnull().sum() #Means there were no zero too"
   ]
  },
  {
   "cell_type": "code",
   "execution_count": 2054,
   "metadata": {},
   "outputs": [
    {
     "data": {
      "text/plain": [
       "<AxesSubplot:>"
      ]
     },
     "execution_count": 2054,
     "metadata": {},
     "output_type": "execute_result"
    },
    {
     "data": {
      "image/png": "[encoded data removed]",
      "text/plain": [
       "<Figure size 432x288 with 1 Axes>"
      ]
     },
     "metadata": {
      "needs_background": "light"
     },
     "output_type": "display_data"
    }
   ],
   "source": [
    "df['TAX CLASS AT TIME OF SALE'].value_counts().plot(kind='bar') #Quite similar distribution of values as in \n",
    "                                                                #TAX CLASS AT PRESENT"
   ]
  },
  {
   "cell_type": "markdown",
   "metadata": {},
   "source": [
    "There are no data entry errors"
   ]
  },
  {
   "cell_type": "markdown",
   "metadata": {},
   "source": [
    "# 17.1 BUILDING CLASS AT TIME OF SALE (Dealing with data entry errors)"
   ]
  },
  {
   "cell_type": "code",
   "execution_count": 2055,
   "metadata": {},
   "outputs": [
    {
     "data": {
      "text/plain": [
       "R4    12989\n",
       "D4    12666\n",
       "A1     6751\n",
       "A5     5671\n",
       "B2     4918\n",
       "      ...  \n",
       "M2        1\n",
       "HS        1\n",
       "I3        1\n",
       "CM        1\n",
       "P7        1\n",
       "Name: BUILDING CLASS AT TIME OF SALE, Length: 166, dtype: int64"
      ]
     },
     "execution_count": 2055,
     "metadata": {},
     "output_type": "execute_result"
    }
   ],
   "source": [
    "df['BUILDING CLASS AT TIME OF SALE'].value_counts()"
   ]
  },
  {
   "cell_type": "code",
   "execution_count": 2056,
   "metadata": {},
   "outputs": [
    {
     "name": "stdout",
     "output_type": "stream",
     "text": [
      "BUILDING CLASS AT TIME OF SALE \n",
      "Null Values: 0 \n",
      "No. of uniques: 166 \n",
      "Unique key: False \n",
      "Type: object\n"
     ]
    }
   ],
   "source": [
    "infocol(df,\"BUILDING CLASS AT TIME OF SALE\")"
   ]
  },
  {
   "cell_type": "markdown",
   "metadata": {},
   "source": [
    "There are no data entry errors"
   ]
  },
  {
   "cell_type": "markdown",
   "metadata": {},
   "source": [
    "# 18.1 SALE PRICE (DEALING WITH DATA ENTRY ERROR)"
   ]
  },
  {
   "cell_type": "code",
   "execution_count": 2057,
   "metadata": {},
   "outputs": [
    {
     "data": {
      "text/plain": [
       "0"
      ]
     },
     "execution_count": 2057,
     "metadata": {},
     "output_type": "execute_result"
    }
   ],
   "source": [
    "df['SALE PRICE'].isnull().sum() #Chechking the number of nulls at initial level"
   ]
  },
  {
   "cell_type": "code",
   "execution_count": 2058,
   "metadata": {},
   "outputs": [
    {
     "data": {
      "text/plain": [
       "14561"
      ]
     },
     "execution_count": 2058,
     "metadata": {},
     "output_type": "execute_result"
    }
   ],
   "source": [
    "df['SALE PRICE'] =pd.to_numeric(df['SALE PRICE'], errors='coerce')\n",
    "#Those values which cannot be converted into numeric are replaced with nulls\n",
    "df['SALE PRICE'].isnull().sum()"
   ]
  },
  {
   "cell_type": "code",
   "execution_count": 2059,
   "metadata": {},
   "outputs": [
    {
     "data": {
      "text/plain": [
       "0.0          10228\n",
       "10.0           766\n",
       "450000.0       427\n",
       "550000.0       416\n",
       "650000.0       414\n",
       "             ...  \n",
       "5260000.0        1\n",
       "1448094.0        1\n",
       "2127500.0        1\n",
       "734750.0         1\n",
       "1038348.0        1\n",
       "Name: SALE PRICE, Length: 10007, dtype: int64"
      ]
     },
     "execution_count": 2059,
     "metadata": {},
     "output_type": "execute_result"
    }
   ],
   "source": [
    "df['SALE PRICE'].value_counts()"
   ]
  },
  {
   "cell_type": "markdown",
   "metadata": {},
   "source": [
    "# 19.1 SALE DATE (Dealing with data entry errors)"
   ]
  },
  {
   "cell_type": "code",
   "execution_count": 2060,
   "metadata": {},
   "outputs": [
    {
     "name": "stdout",
     "output_type": "stream",
     "text": [
      "SALE DATE \n",
      "Null Values: 0 \n",
      "No. of uniques: 367 \n",
      "Unique key: False \n",
      "Type: object\n"
     ]
    }
   ],
   "source": [
    "infocol(df,\"SALE DATE\")"
   ]
  },
  {
   "cell_type": "code",
   "execution_count": 2061,
   "metadata": {},
   "outputs": [
    {
     "data": {
      "text/plain": [
       "3"
      ]
     },
     "execution_count": 2061,
     "metadata": {},
     "output_type": "execute_result"
    }
   ],
   "source": [
    "df['SALE DATE'] = pd.to_datetime(df['SALE DATE'], errors='coerce')\n",
    "df['SALE DATE'].isnull().sum()"
   ]
  },
  {
   "cell_type": "markdown",
   "metadata": {},
   "source": [
    "# Checking null values in all the coloumns"
   ]
  },
  {
   "cell_type": "code",
   "execution_count": 2062,
   "metadata": {},
   "outputs": [
    {
     "data": {
      "text/plain": [
       "BOROUGH                               0\n",
       "NEIGHBORHOOD                         30\n",
       "BUILDING CLASS CATEGORY              51\n",
       "TAX CLASS AT PRESENT                745\n",
       "BLOCK                                16\n",
       "LOT                                  10\n",
       "BUILDING CLASS AT PRESENT             1\n",
       "ADDRESS                              45\n",
       "ZIP CODE                           1018\n",
       "RESIDENTIAL UNITS                     0\n",
       "COMMERCIAL UNITS                      0\n",
       "TOTAL UNITS                           0\n",
       "LAND SQUARE FEET                  36578\n",
       "GROSS SQUARE FEET                 39029\n",
       "YEAR BUILT                         6970\n",
       "TAX CLASS AT TIME OF SALE             0\n",
       "BUILDING CLASS AT TIME OF SALE        0\n",
       "SALE PRICE                        14561\n",
       "SALE DATE                             3\n",
       "SALE_ID                               0\n",
       "dtype: int64"
      ]
     },
     "execution_count": 2062,
     "metadata": {},
     "output_type": "execute_result"
    }
   ],
   "source": [
    "df.isnull().sum()"
   ]
  },
  {
   "cell_type": "code",
   "execution_count": 2063,
   "metadata": {},
   "outputs": [
    {
     "data": {
      "text/plain": [
       "<AxesSubplot:>"
      ]
     },
     "execution_count": 2063,
     "metadata": {},
     "output_type": "execute_result"
    },
    {
     "data": {
      "image/png": "[encoded data removed]",
      "text/plain": [
       "<Figure size 1800x720 with 2 Axes>"
      ]
     },
     "metadata": {
      "needs_background": "light"
     },
     "output_type": "display_data"
    }
   ],
   "source": [
    "# visualize the location of the missingness of data using mano.matrix\n",
    "mano.matrix(df)"
   ]
  },
  {
   "cell_type": "markdown",
   "metadata": {},
   "source": [
    "We can see above that four of the columns have similar missing value patterns to some extent. So, it is an example of MNAR.\n",
    "Those coloumns are:"
   ]
  },
  {
   "cell_type": "markdown",
   "metadata": {},
   "source": [
    "1.LAND SQUARE FEET"
   ]
  },
  {
   "cell_type": "markdown",
   "metadata": {},
   "source": [
    "2.GROSS SQUARE FEET "
   ]
  },
  {
   "cell_type": "markdown",
   "metadata": {},
   "source": [
    "3.YEAR BUILT"
   ]
  },
  {
   "cell_type": "markdown",
   "metadata": {},
   "source": [
    "4.SALE PRICE"
   ]
  },
  {
   "cell_type": "code",
   "execution_count": 2064,
   "metadata": {},
   "outputs": [
    {
     "name": "stdout",
     "output_type": "stream",
     "text": [
      "Null Values\n",
      "LAND SQUARE FEET: 36578\n",
      "GROSS SQUARE FEET: 39029\n",
      "YEAR BUILT: 6970\n",
      "SALE PRICE: 14561\n"
     ]
    }
   ],
   "source": [
    "a=df[\"LAND SQUARE FEET\"].isnull().sum()\n",
    "b=df[\"GROSS SQUARE FEET\"].isnull().sum()\n",
    "c=df[\"YEAR BUILT\"].isnull().sum()\n",
    "d=df[\"SALE PRICE\"].isnull().sum()\n",
    "print(\"Null Values\")\n",
    "print(\"LAND SQUARE FEET:\",a)\n",
    "print(\"GROSS SQUARE FEET:\",b)\n",
    "print(\"YEAR BUILT:\",c)\n",
    "print(\"SALE PRICE:\",d)"
   ]
  },
  {
   "cell_type": "markdown",
   "metadata": {},
   "source": [
    "# Percentage of rows which have null values in the above mentioned coloumns "
   ]
  },
  {
   "cell_type": "code",
   "execution_count": 2065,
   "metadata": {},
   "outputs": [
    {
     "data": {
      "text/plain": [
       "84548"
      ]
     },
     "execution_count": 2065,
     "metadata": {},
     "output_type": "execute_result"
    }
   ],
   "source": [
    "l=len(df)  #LENGHT OF ORIGINAL DATA FRAME IS 84548\n",
    "l "
   ]
  },
  {
   "cell_type": "code",
   "execution_count": 2066,
   "metadata": {},
   "outputs": [
    {
     "name": "stdout",
     "output_type": "stream",
     "text": [
      "Total no. of rows: 84548\n",
      "Total no of rows having null values in above mentioned coloumns: 915\n",
      "Percentage of null values in the above mentioned coloumns is: 1.082225481383356 %\n"
     ]
    }
   ],
   "source": [
    "p=df.loc[df[\"LAND SQUARE FEET\"].isnull() & df[\"GROSS SQUARE FEET\"].isnull() & df[\"YEAR BUILT\"].isnull() & df[\"SALE PRICE\"].isnull(), [\"SALE_ID\"]]\n",
    "a=len(p)\n",
    "b=(a/84548) *100\n",
    "print(\"Total no. of rows:\", 84548)\n",
    "print(\"Total no of rows having null values in above mentioned coloumns:\", a)\n",
    "print(\"Percentage of null values in the above mentioned coloumns is:\" , b, \"%\")"
   ]
  },
  {
   "cell_type": "markdown",
   "metadata": {},
   "source": [
    "#### 1.08% is a very low value, and deleting them altogether would not be a bad idea."
   ]
  },
  {
   "cell_type": "code",
   "execution_count": 2067,
   "metadata": {},
   "outputs": [],
   "source": [
    "for x in p['SALE_ID']:\n",
    "    df = df[df.SALE_ID != x]"
   ]
  },
  {
   "cell_type": "markdown",
   "metadata": {},
   "source": [
    "#  Percentage of rows which have null values in LAND SQUARE FEET, GROSS SQUARE FEET and SALE PRICE coloumns"
   ]
  },
  {
   "cell_type": "code",
   "execution_count": 2068,
   "metadata": {},
   "outputs": [
    {
     "name": "stdout",
     "output_type": "stream",
     "text": [
      "Total no. of rows: 84548\n",
      "Total no of rows having null values in above mentioned coloumns: 4147\n",
      "Percentage of null values in the above mentioned coloumns is: 4.9049060888489375 %\n"
     ]
    }
   ],
   "source": [
    "p=df.loc[df[\"LAND SQUARE FEET\"].isnull() & df[\"GROSS SQUARE FEET\"].isnull() & df[\"SALE PRICE\"].isnull(), [\"SALE_ID\"]]\n",
    "a=len(p)\n",
    "b=(a/84548) *100\n",
    "print(\"Total no. of rows:\", 84548)\n",
    "print(\"Total no of rows having null values in above mentioned coloumns:\", a)\n",
    "print(\"Percentage of null values in the above mentioned coloumns is:\" , b, \"%\")"
   ]
  },
  {
   "cell_type": "markdown",
   "metadata": {},
   "source": [
    "### 4.9% is again less than our max limit of deleting data which is 5% of the original data  "
   ]
  },
  {
   "cell_type": "code",
   "execution_count": 2069,
   "metadata": {},
   "outputs": [],
   "source": [
    "for x in p['SALE_ID']:\n",
    "    df = df[df.SALE_ID != x]"
   ]
  },
  {
   "cell_type": "code",
   "execution_count": 2071,
   "metadata": {},
   "outputs": [
    {
     "data": {
      "text/plain": [
       "BOROUGH                               0\n",
       "NEIGHBORHOOD                         30\n",
       "BUILDING CLASS CATEGORY              38\n",
       "TAX CLASS AT PRESENT                680\n",
       "BLOCK                                12\n",
       "LOT                                   9\n",
       "BUILDING CLASS AT PRESENT             1\n",
       "ADDRESS                              45\n",
       "ZIP CODE                            979\n",
       "RESIDENTIAL UNITS                     0\n",
       "COMMERCIAL UNITS                      0\n",
       "TOTAL UNITS                           0\n",
       "LAND SQUARE FEET                  31516\n",
       "GROSS SQUARE FEET                 33967\n",
       "YEAR BUILT                         6055\n",
       "TAX CLASS AT TIME OF SALE             0\n",
       "BUILDING CLASS AT TIME OF SALE        0\n",
       "SALE PRICE                         9499\n",
       "SALE DATE                             2\n",
       "SALE_ID                               0\n",
       "dtype: int64"
      ]
     },
     "execution_count": 2071,
     "metadata": {},
     "output_type": "execute_result"
    }
   ],
   "source": [
    "df.isnull().sum()"
   ]
  },
  {
   "cell_type": "markdown",
   "metadata": {},
   "source": [
    "# 1.2 BOROUGH (Filling nulls with values)"
   ]
  },
  {
   "cell_type": "markdown",
   "metadata": {},
   "source": [
    "This coloumn doesnt have null values"
   ]
  },
  {
   "cell_type": "markdown",
   "metadata": {},
   "source": [
    "# 2.2 NEIGHBORHOOD (Filling nulls with values)"
   ]
  },
  {
   "cell_type": "code",
   "execution_count": 2072,
   "metadata": {},
   "outputs": [
    {
     "name": "stdout",
     "output_type": "stream",
     "text": [
      "NEIGHBORHOOD \n",
      "Null Values: 30 \n",
      "No. of uniques: 255 \n",
      "Unique key: False \n",
      "Type: object\n"
     ]
    }
   ],
   "source": [
    "infocol(df,\"NEIGHBORHOOD\") #Checking our coloumn"
   ]
  },
  {
   "cell_type": "markdown",
   "metadata": {},
   "source": [
    "Although it is not mentioned, but we are assuming that block is the subcategory of neighborhood coloumn"
   ]
  },
  {
   "cell_type": "code",
   "execution_count": 2073,
   "metadata": {},
   "outputs": [],
   "source": [
    "a=df.loc[df[\"NEIGHBORHOOD\"].isnull() , [\"NEIGHBORHOOD\",\"BLOCK\"]]\n",
    "for x in a['BLOCK']:                                                          #for each value of BLOCK in 'a' the \n",
    "                                                                              #loop will run\n",
    "    b=df.loc[df[\"BLOCK\"]==x , [\"NEIGHBORHOOD\",\"BLOCK\"]]                       # step 2. now for each value of BLOCK \n",
    "                                                                              # we must now find the most repeating \n",
    "                                                                              # value of neighborhood in the original data frame\n",
    "    c=b.mode()['NEIGHBORHOOD'][0]                                             \n",
    "                                     \n",
    "                                                                              # here we could have taken the first but taking\n",
    "                                                                              # mode here nullifies the possibility that the \n",
    "                                                                              # we mistakenly pick Nan if that is \n",
    "                                                                              # coincidently the first value\n",
    "    cond = (df['BLOCK'] == x) & (df['NEIGHBORHOOD'].isnull())                 # step 3. replacing null values with appropriate values\n",
    "    df.loc[cond, 'NEIGHBORHOOD'] = c"
   ]
  },
  {
   "cell_type": "code",
   "execution_count": 2074,
   "metadata": {},
   "outputs": [
    {
     "data": {
      "text/plain": [
       "0"
      ]
     },
     "execution_count": 2074,
     "metadata": {},
     "output_type": "execute_result"
    }
   ],
   "source": [
    "df[\"NEIGHBORHOOD\"].isnull().sum() "
   ]
  },
  {
   "cell_type": "markdown",
   "metadata": {},
   "source": [
    "# 3.2 BUILDING CLASS CATEGORY (Filling nulls with values)"
   ]
  },
  {
   "cell_type": "markdown",
   "metadata": {},
   "source": [
    "### BUILDING CLASS CATEGORY is a sub-category of TAX CLASS AT PRESENT "
   ]
  },
  {
   "cell_type": "code",
   "execution_count": 2075,
   "metadata": {},
   "outputs": [
    {
     "data": {
      "text/plain": [
       "TAX CLASS AT PRESENT  BUILDING CLASS CATEGORY                   \n",
       "1                      COMMERCIAL VACANT LAND                           1\n",
       "                       OFFICE BUILDINGS                                 1\n",
       "                       ONE FAMILY DWELLINGS                         18233\n",
       "                       RELIGIOUS FACILITIES                             1\n",
       "                       RENTALS - WALKUP APARTMENTS                      5\n",
       "                       STORE BUILDINGS                                  1\n",
       "                       TAX CLASS  - OTHER                             183\n",
       "                       TAX CLASS  CONDOS                             1430\n",
       "                       TAX CLASS  VACANT LAND                        1237\n",
       "                       THREE FAMILY DWELLINGS                        4344\n",
       "                       TWO FAMILY DWELLINGS                         15825\n",
       "2                      COMMERCIAL CONDOS                                1\n",
       "                       COMMERCIAL GARAGES                               1\n",
       "                       COMMERCIAL VACANT LAND                           2\n",
       "                       CONDO COOPS                                   1115\n",
       "                       CONDO OFFICE BUILDINGS                           1\n",
       "                       CONDO PARKING                                    7\n",
       "                       CONDOS - - UNIT RESIDENTIAL                   1155\n",
       "                       CONDOS - - UNIT WITH COMMERCIAL UNIT            77\n",
       "                       CONDOS - ELEVATOR APARTMENTS                 10439\n",
       "                       CONDOS - WALKUP APARTMENTS                     748\n",
       "                       COOPS - ELEVATOR APARTMENTS                  11861\n",
       "                       COOPS - WALKUP APARTMENTS                     2576\n",
       "                       FACTORIES                                        1\n",
       "                       ONE FAMILY DWELLINGS                             1\n",
       "                       RENTALS - - UNIT                               671\n",
       "                       RENTALS - ELEVATOR APARTMENTS                  381\n",
       "                       RENTALS - WALKUP APARTMENTS                   3452\n",
       "                       SPECIAL CONDO BILLING LOTS                       2\n",
       "                       TAX CLASS  - OTHER                               1\n",
       "                       TAX CLASS  VACANT LAND                           5\n",
       "                       THREE FAMILY DWELLINGS                           1\n",
       "                       TWO FAMILY DWELLINGS                             3\n",
       "                      A CONDO-RENTALS                                  40\n",
       "3                      TAX CLASS  - UNTILITY PROPERTIES                 2\n",
       "4                      ASYLUMS AND HOMES                               25\n",
       "                       COMMERCIAL CONDOS                               20\n",
       "                       COMMERCIAL GARAGES                             585\n",
       "                       COMMERCIAL VACANT LAND                         454\n",
       "                       CONDO CULTURAL/MEDICAL/EDUCATIONAL/ETC           5\n",
       "                       CONDO HOTELS                                    86\n",
       "                       CONDO NON-BUSINESS STORAGE                     140\n",
       "                       CONDO OFFICE BUILDINGS                         266\n",
       "                       CONDO PARKING                                  795\n",
       "                       CONDO STORE BUILDINGS                           96\n",
       "                       CONDO TERRACES/GARDENS/CABANAS                  32\n",
       "                       CONDO WAREHOUSES/FACTORY/INDUS                  27\n",
       "                       EDUCATIONAL FACILITIES                          69\n",
       "                       FACTORIES                                      200\n",
       "                       HOSPITAL AND HEALTH FACILITIES                  59\n",
       "                       INDOOR PUBLIC AND CULTURAL FACILITIES           32\n",
       "                       LOFT BUILDINGS                                  46\n",
       "                       LUXURY HOTELS                                   12\n",
       "                       OFFICE BUILDINGS                               349\n",
       "                       OTHER HOTELS                                   114\n",
       "                       OUTDOOR RECREATIONAL FACILITIES                 13\n",
       "                       RELIGIOUS FACILITIES                            98\n",
       "                       RENTALS - WALKUP APARTMENTS                      3\n",
       "                       SELECTED GOVERNMENTAL FACILITIES                 2\n",
       "                       STORE BUILDINGS                                934\n",
       "dtype: int64"
      ]
     },
     "execution_count": 2075,
     "metadata": {},
     "output_type": "execute_result"
    }
   ],
   "source": [
    "# Distribution of BUILDING CLASS CATEGORY in TAX CLASS AT PRESENT\n",
    "df.groupby(['TAX CLASS AT PRESENT', 'BUILDING CLASS CATEGORY']).size().head(60)"
   ]
  },
  {
   "cell_type": "code",
   "execution_count": 2076,
   "metadata": {},
   "outputs": [],
   "source": [
    "# Where TAX CLASS AT PRESENT is 1 - ONE FAMILY DWELLINGS\n",
    "c1 = (df['TAX CLASS AT PRESENT'] == '1') & (df['BUILDING CLASS CATEGORY'].isnull())\n",
    "df.loc[c1, 'BUILDING CLASS CATEGORY'] = 'ONE FAMILY HOME'\n",
    "\n",
    "# Where TAX CLASS AT PRESENT is 2 - CONDOS - ELEVATOR APARTMENTS\n",
    "c1 = (df['TAX CLASS AT PRESENT'] == '2') & (df['BUILDING CLASS CATEGORY'].isnull())\n",
    "df.loc[c1, 'BUILDING CLASS CATEGORY'] = 'CONDOS - ELEVATOR APARTMENTS'\n",
    "\n",
    "# Where TAX CLASS AT PRESENT is 3 - TAX CLASS  - UNTILITY PROPERTIES\n",
    "c1 = (df['TAX CLASS AT PRESENT'] == '3') & (df['BUILDING CLASS CATEGORY'].isnull())\n",
    "df.loc[c1, 'BUILDING CLASS CATEGORY'] = 'TAX CLASS  - UNTILITY PROPERTIES'\n",
    "\n",
    "# Where TAX CLASS AT PRESENT is 4 - TAX CLASS  - CONDO PARKING\n",
    "c1 = (df['TAX CLASS AT PRESENT'] == '4') & (df['BUILDING CLASS CATEGORY'].isnull())\n",
    "df.loc[c1, 'BUILDING CLASS CATEGORY'] = 'TAX CLASS  - CONDO PARKING'"
   ]
  },
  {
   "cell_type": "code",
   "execution_count": 2077,
   "metadata": {},
   "outputs": [
    {
     "data": {
      "text/plain": [
       "0"
      ]
     },
     "execution_count": 2077,
     "metadata": {},
     "output_type": "execute_result"
    }
   ],
   "source": [
    "df['BUILDING CLASS CATEGORY'].isnull().sum()"
   ]
  },
  {
   "cell_type": "markdown",
   "metadata": {},
   "source": [
    "# 4.2 TAX CLASS AT PRESENT (Filling nulls with values)"
   ]
  },
  {
   "cell_type": "markdown",
   "metadata": {},
   "source": [
    "### BUILDING CLASS CATEGORY is a sub-category of TAX CLASS AT PRESENT "
   ]
  },
  {
   "cell_type": "code",
   "execution_count": 2078,
   "metadata": {},
   "outputs": [],
   "source": [
    "# rows where TAX CLASS AT PRESENT has nulls are filtered with their corresponding BUILDING CLASS CATEGORY \n",
    "a=df.loc[df[\"TAX CLASS AT PRESENT\"].isnull() , [\"TAX CLASS AT PRESENT\",\"BUILDING CLASS CATEGORY\"]]                                                                                                    \n",
    "for x in a['BUILDING CLASS CATEGORY']:                                          #for each value of BUILDING CLASS CATEGORY  \n",
    "                                                                                #loop will run\n",
    "    b=df.loc[df[\"BUILDING CLASS CATEGORY\"]==x , [\"TAX CLASS AT PRESENT\",\"BUILDING CLASS CATEGORY\"]]  # step 2. now for each value of BUILDING CLASS CATEGORY \n",
    "                                                                                # we must now find the most repeated \n",
    "                                                                                # TAX CLASS PRESENT value in the original data frame\n",
    "    c=b.mode()['TAX CLASS AT PRESENT'][0]                                       \n",
    "                                     \n",
    "                                                                                # here we could have taken the first value but taking\n",
    "                                                                                # mode here nullifies the possibility that the \n",
    "                                                                                # we mistakenly pick Nan if that is \n",
    "                                                                                # coincidently the first value\n",
    "    cond = (df['BUILDING CLASS CATEGORY'] == x) & (df['TAX CLASS AT PRESENT'].isnull())    # step 3. replacing null values with appropriate values\n",
    "    df.loc[cond, 'TAX CLASS AT PRESENT'] = c"
   ]
  },
  {
   "cell_type": "code",
   "execution_count": 2079,
   "metadata": {},
   "outputs": [
    {
     "data": {
      "text/plain": [
       "0"
      ]
     },
     "execution_count": 2079,
     "metadata": {},
     "output_type": "execute_result"
    }
   ],
   "source": [
    "df[\"TAX CLASS AT PRESENT\"].isnull().sum()"
   ]
  },
  {
   "cell_type": "markdown",
   "metadata": {},
   "source": [
    "# 5.2 BLOCK (Filling nulls with values)"
   ]
  },
  {
   "cell_type": "markdown",
   "metadata": {},
   "source": [
    "As mentioned in the glossary, The Department of Finance uses a Borough-Block-Lot classification, which means block is a subcategory of Borough"
   ]
  },
  {
   "cell_type": "code",
   "execution_count": 2080,
   "metadata": {},
   "outputs": [
    {
     "name": "stdout",
     "output_type": "stream",
     "text": [
      "BLOCK \n",
      "Null Values: 12 \n",
      "No. of uniques: 11559 \n",
      "Unique key: False \n",
      "Type: float64\n"
     ]
    }
   ],
   "source": [
    "infocol(df,\"BLOCK\")"
   ]
  },
  {
   "cell_type": "code",
   "execution_count": 2081,
   "metadata": {},
   "outputs": [],
   "source": [
    "# rows where BLOCK has nulls are filtered with their corresponding BOROUGH \n",
    "a=df.loc[df[\"BLOCK\"].isnull() , [\"BLOCK\",\"BOROUGH\"]]\n",
    "for x in a['BOROUGH']:                                          #for each value of BOROUGH  \n",
    "                                                                                #loop will run\n",
    "    b=df.loc[df[\"BOROUGH\"]==x , [\"BLOCK\",\"BOROUGH\"]]  # step 2. now for each value of BOROUGH \n",
    "                                                                                # we must now find the most repeated \n",
    "                                                                                # TAX CLASS PRESENT value in the original data frame\n",
    "    c=b.mode()['BLOCK'][0]                                       \n",
    "                                     \n",
    "                                                                                # here we could have taken the first value but taking\n",
    "                                                                                # mode here nullifies the possibility that the \n",
    "                                                                                # we mistakenly pick Nan if that is \n",
    "                                                                                # coincidently the first value\n",
    "    cond = (df['BOROUGH'] == x) & (df['BLOCK'].isnull())    # step 3. replacing null values with appropriate values\n",
    "    df.loc[cond, 'BLOCK'] = c"
   ]
  },
  {
   "cell_type": "code",
   "execution_count": 2082,
   "metadata": {},
   "outputs": [
    {
     "data": {
      "text/plain": [
       "0"
      ]
     },
     "execution_count": 2082,
     "metadata": {},
     "output_type": "execute_result"
    }
   ],
   "source": [
    "df[\"BLOCK\"].isnull().sum()"
   ]
  },
  {
   "cell_type": "markdown",
   "metadata": {},
   "source": [
    "# 6.2 LOT (Filling nulls with values)"
   ]
  },
  {
   "cell_type": "code",
   "execution_count": 2083,
   "metadata": {},
   "outputs": [
    {
     "data": {
      "text/plain": [
       "0    1.0\n",
       "dtype: float64"
      ]
     },
     "execution_count": 2083,
     "metadata": {},
     "output_type": "execute_result"
    }
   ],
   "source": [
    "df['LOT'].mode()"
   ]
  },
  {
   "cell_type": "code",
   "execution_count": 2084,
   "metadata": {},
   "outputs": [
    {
     "data": {
      "text/plain": [
       "9"
      ]
     },
     "execution_count": 2084,
     "metadata": {},
     "output_type": "execute_result"
    }
   ],
   "source": [
    "df[\"LOT\"].isnull().sum()"
   ]
  },
  {
   "cell_type": "code",
   "execution_count": 2085,
   "metadata": {},
   "outputs": [],
   "source": [
    "df['LOT'].replace(np.nan,1 , inplace=True) #REPLACING WITH NULLS"
   ]
  },
  {
   "cell_type": "markdown",
   "metadata": {},
   "source": [
    "# 7.2 BUILDING CLASS AT PRESENT (Filling nulls with values)"
   ]
  },
  {
   "cell_type": "code",
   "execution_count": 2086,
   "metadata": {},
   "outputs": [
    {
     "data": {
      "text/plain": [
       "1"
      ]
     },
     "execution_count": 2086,
     "metadata": {},
     "output_type": "execute_result"
    }
   ],
   "source": [
    "df['BUILDING CLASS AT PRESENT'].isnull().sum() #only one missing value, replacing it with mode "
   ]
  },
  {
   "cell_type": "code",
   "execution_count": 2087,
   "metadata": {},
   "outputs": [
    {
     "data": {
      "text/plain": [
       "0"
      ]
     },
     "execution_count": 2087,
     "metadata": {},
     "output_type": "execute_result"
    }
   ],
   "source": [
    "df['BUILDING CLASS AT PRESENT'] =df['BUILDING CLASS AT PRESENT'].fillna(df['BUILDING CLASS AT PRESENT'].mode())\n",
    "df['BUILDING CLASS AT PRESENT'].isnull().sum()"
   ]
  },
  {
   "cell_type": "markdown",
   "metadata": {},
   "source": [
    "# 8.2 ADDRESS (Filling nulls with values)"
   ]
  },
  {
   "cell_type": "markdown",
   "metadata": {},
   "source": [
    "Filling null values with BLOCK"
   ]
  },
  {
   "cell_type": "code",
   "execution_count": 2088,
   "metadata": {},
   "outputs": [
    {
     "name": "stdout",
     "output_type": "stream",
     "text": [
      "ADDRESS \n",
      "Null Values: 45 \n",
      "No. of uniques: 65699 \n",
      "Unique key: False \n",
      "Type: object\n"
     ]
    }
   ],
   "source": [
    "infocol(df,\"ADDRESS\")"
   ]
  },
  {
   "cell_type": "code",
   "execution_count": 2089,
   "metadata": {},
   "outputs": [],
   "source": [
    "# rows where ADRESS has nulls are filtered with their corresponding BLOCK \n",
    "a=df.loc[df[\"ADDRESS\"].isnull() , [\"ADDRESS\",\"BLOCK\"]]\n",
    "for x in a['BLOCK']:                                                            #for each value of BLOCK  \n",
    "                                                                                #loop will run\n",
    "    b=df.loc[df[\"BLOCK\"]==x , [\"ADDRESS\",\"BLOCK\"]]                              # step 2. now for each value of BLOCK \n",
    "                                                                                # we must now find the most repeated \n",
    "                                                                                # TAX CLASS PRESENT value in the original data frame\n",
    "    c=b.mode()['ADDRESS'][0]                                       \n",
    "                                     \n",
    "                                                                                # here we could have taken the first value but taking\n",
    "                                                                                # mode here nullifies the possibility that the \n",
    "                                                                                # we mistakenly pick Nan if that is \n",
    "                                                                                # coincidently the first value\n",
    "    cond = (df['BLOCK'] == x) & (df['ADDRESS'].isnull())                        # step 3. replacing null values with appropriate values\n",
    "    df.loc[cond, 'ADDRESS'] = c"
   ]
  },
  {
   "cell_type": "code",
   "execution_count": 2090,
   "metadata": {},
   "outputs": [
    {
     "data": {
      "text/plain": [
       "0"
      ]
     },
     "execution_count": 2090,
     "metadata": {},
     "output_type": "execute_result"
    }
   ],
   "source": [
    "df[\"ADDRESS\"].isnull().sum()"
   ]
  },
  {
   "cell_type": "markdown",
   "metadata": {},
   "source": [
    "# 9.2 ZIP CODE (Filling nulls with values)"
   ]
  },
  {
   "cell_type": "markdown",
   "metadata": {},
   "source": [
    "### (Replacing null values of ZIP CODE with modes based on ADDRESS)"
   ]
  },
  {
   "cell_type": "code",
   "execution_count": 2091,
   "metadata": {},
   "outputs": [
    {
     "name": "stdout",
     "output_type": "stream",
     "text": [
      "ZIP CODE \n",
      "Null Values: 979 \n",
      "No. of uniques: 186 \n",
      "Unique key: False \n",
      "Type: float64\n"
     ]
    }
   ],
   "source": [
    "infocol(df,\"ZIP CODE\")"
   ]
  },
  {
   "cell_type": "code",
   "execution_count": 2092,
   "metadata": {},
   "outputs": [],
   "source": [
    "# rows where ZIP CODE has nulls are filtered with their corresponding ADDRESS \n",
    "a=df.loc[df[\"ZIP CODE\"].isnull() , [\"ZIP CODE\",\"ADDRESS\"]]\n",
    "for x in a['ADDRESS']:                                          #for each value of ADDRESS  \n",
    "                                                                #loop will run\n",
    "    b=df.loc[df[\"ADDRESS\"]==x , [\"ZIP CODE\",\"ADDRESS\"]]         # step 2. now for each value of ADDRESS \n",
    "                                                                # we must now find the most repeated \n",
    "                                                                # ZIP CODE value in the original data frame\n",
    "    c=b.mode()['ZIP CODE'][0]                                       \n",
    "                                     \n",
    "                                                               # here we could have taken the first value but taking\n",
    "                                                               # mode here nullifies the possibility that the \n",
    "                                                               # we mistakenly pick Nan if that is \n",
    "                                                               # coincidently the first value\n",
    "    cond = (df['ADDRESS'] == x) & (df['ZIP CODE'].isnull())    # step 3. replacing null values with appropriate values\n",
    "    df.loc[cond, 'ZIP CODE'] = c"
   ]
  },
  {
   "cell_type": "code",
   "execution_count": 2093,
   "metadata": {},
   "outputs": [
    {
     "name": "stdout",
     "output_type": "stream",
     "text": [
      "ZIP CODE \n",
      "Null Values: 675 \n",
      "No. of uniques: 186 \n",
      "Unique key: False \n",
      "Type: float64\n"
     ]
    }
   ],
   "source": [
    "infocol(df,\"ZIP CODE\")"
   ]
  },
  {
   "cell_type": "markdown",
   "metadata": {},
   "source": [
    "As there are still null values available in ZIP  CODE, which means that there are several values in ADDRESS coloumn on which there are no ZIP CODES at all"
   ]
  },
  {
   "cell_type": "markdown",
   "metadata": {},
   "source": [
    "### (Replacing null values of ZIP CODE with modes based on BLOCKS)"
   ]
  },
  {
   "cell_type": "code",
   "execution_count": 2094,
   "metadata": {},
   "outputs": [],
   "source": [
    "# rows where ZIP CODE has nulls are filtered with their corresponding BLOCKS \n",
    "a=df.loc[df[\"ZIP CODE\"].isnull() , [\"ZIP CODE\",\"BLOCK\"]]\n",
    "for x in a['BLOCK']:                                          #for each value of BLOCK  \n",
    "                                                              #loop will run\n",
    "    b=df.loc[df[\"BLOCK\"]==x , [\"ZIP CODE\",\"BLOCK\"]]           # step 2. now for each value of BLOCK \n",
    "                                                              # we must now find the most repeated \n",
    "                                                              # ZIP CODE value in the original data frame\n",
    "    c=b.mode()['ZIP CODE'][0]                                       \n",
    "                                     \n",
    "                                                              # here we could have taken the first value but taking\n",
    "                                                              # mode here nullifies the possibility that the \n",
    "                                                              # we mistakenly pick Nan if that is \n",
    "                                                              # coincidently the first value\n",
    "    cond = (df['BLOCK'] == x) & (df['ZIP CODE'].isnull())     # step 3. replacing null values with appropriate values\n",
    "    df.loc[cond, 'ZIP CODE'] = c"
   ]
  },
  {
   "cell_type": "code",
   "execution_count": 2095,
   "metadata": {},
   "outputs": [
    {
     "name": "stdout",
     "output_type": "stream",
     "text": [
      "ZIP CODE \n",
      "Null Values: 40 \n",
      "No. of uniques: 186 \n",
      "Unique key: False \n",
      "Type: float64\n"
     ]
    }
   ],
   "source": [
    "infocol(df,\"ZIP CODE\")"
   ]
  },
  {
   "cell_type": "markdown",
   "metadata": {},
   "source": [
    "As there are still null values available in ZIP  CODE, which means that there are several values in BLOCKS coloumn on which there are no ZIP CODES at all"
   ]
  },
  {
   "cell_type": "markdown",
   "metadata": {},
   "source": [
    "### (Replacing null values of ZIP CODE with modes based on BOROUGH)"
   ]
  },
  {
   "cell_type": "code",
   "execution_count": 2096,
   "metadata": {},
   "outputs": [],
   "source": [
    "# rows where ZIP CODE has nulls are filtered with their corresponding BOROUGHS \n",
    "a=df.loc[df[\"ZIP CODE\"].isnull() , [\"ZIP CODE\",\"BOROUGH\"]]\n",
    "for x in a['BOROUGH']:                                        #for each value of BOROUGH  \n",
    "                                                              #loop will run\n",
    "    b=df.loc[df[\"BOROUGH\"]==x , [\"ZIP CODE\",\"BOROUGH\"]]       # step 2. now for each value of BOROUGH \n",
    "                                                              # we must now find the most repeated \n",
    "                                                              # ZIP CODE value in the original data frame\n",
    "    c=b.mode()['ZIP CODE'][0]                                       \n",
    "                                     \n",
    "                                                              # here we could have taken the first value but taking\n",
    "                                                              # mode here nullifies the possibility that the \n",
    "                                                              # we mistakenly pick Nan if that is \n",
    "                                                              # coincidently the first value\n",
    "    cond = (df['BOROUGH'] == x) & (df['ZIP CODE'].isnull())   # step 3. replacing null values with appropriate values\n",
    "    df.loc[cond, 'ZIP CODE'] = c"
   ]
  },
  {
   "cell_type": "code",
   "execution_count": 2097,
   "metadata": {},
   "outputs": [
    {
     "name": "stdout",
     "output_type": "stream",
     "text": [
      "ZIP CODE \n",
      "Null Values: 0 \n",
      "No. of uniques: 185 \n",
      "Unique key: False \n",
      "Type: float64\n"
     ]
    }
   ],
   "source": [
    "infocol(df,\"ZIP CODE\")"
   ]
  },
  {
   "cell_type": "markdown",
   "metadata": {},
   "source": [
    "# 10.2 RESIDENTIAL UNITS (Filling nulls with values)"
   ]
  },
  {
   "cell_type": "markdown",
   "metadata": {},
   "source": [
    "This coloumn doesnot have any missing values "
   ]
  },
  {
   "cell_type": "markdown",
   "metadata": {},
   "source": [
    "# 11.2 COMMERCIAL UNITS (Filling nulls with values)"
   ]
  },
  {
   "cell_type": "markdown",
   "metadata": {},
   "source": [
    "This coloumn doesnot have any missing values "
   ]
  },
  {
   "cell_type": "markdown",
   "metadata": {},
   "source": [
    "# 12.2 TOTAL UNITS (Filling nulls with values)"
   ]
  },
  {
   "cell_type": "markdown",
   "metadata": {},
   "source": [
    "This coloumn doesnot have any missing values "
   ]
  },
  {
   "cell_type": "markdown",
   "metadata": {},
   "source": [
    "# 13.2 LAND SQUARE FEET (Filling nulls with values)"
   ]
  },
  {
   "cell_type": "code",
   "execution_count": 2098,
   "metadata": {},
   "outputs": [
    {
     "name": "stdout",
     "output_type": "stream",
     "text": [
      "LAND SQUARE FEET \n",
      "Null Values: 31516 \n",
      "No. of uniques: 6061 \n",
      "Unique key: False \n",
      "Type: float64\n"
     ]
    }
   ],
   "source": [
    "infocol(df,\"LAND SQUARE FEET\") #way too many nulls"
   ]
  },
  {
   "cell_type": "code",
   "execution_count": 2099,
   "metadata": {},
   "outputs": [
    {
     "data": {
      "text/plain": [
       "<AxesSubplot:>"
      ]
     },
     "execution_count": 2099,
     "metadata": {},
     "output_type": "execute_result"
    },
    {
     "data": {
      "image/png": "[encoded data removed]",
      "text/plain": [
       "<Figure size 432x288 with 1 Axes>"
      ]
     },
     "metadata": {
      "needs_background": "light"
     },
     "output_type": "display_data"
    }
   ],
   "source": [
    "df['LAND SQUARE FEET'].hist() #And way too many outliers"
   ]
  },
  {
   "cell_type": "code",
   "execution_count": 2100,
   "metadata": {},
   "outputs": [
    {
     "name": "stdout",
     "output_type": "stream",
     "text": [
      "LAND SQUARE FEET \n",
      "Min:  2.0 \n",
      "Max:  4252327.0 \n",
      "Mean:  4790.159078590786 \n",
      "Median:  2500.0 \n",
      "Mode:  0    2000.0\n",
      "dtype: float64\n"
     ]
    }
   ],
   "source": [
    "ranges(df,\"LAND SQUARE FEET\")"
   ]
  },
  {
   "cell_type": "markdown",
   "metadata": {},
   "source": [
    "### Making a new coloumn \"LAND SQUARE FEET 2\" to get rid of nulls"
   ]
  },
  {
   "cell_type": "code",
   "execution_count": 2101,
   "metadata": {},
   "outputs": [],
   "source": [
    "df['LAND SQUARE FEET 2'] = df['LAND SQUARE FEET'].interpolate(method ='linear', limit_direction ='backward')"
   ]
  },
  {
   "cell_type": "code",
   "execution_count": 2102,
   "metadata": {},
   "outputs": [
    {
     "name": "stdout",
     "output_type": "stream",
     "text": [
      "LAND SQUARE FEET 2 \n",
      "Null Values: 0 \n",
      "No. of uniques: 35988 \n",
      "Unique key: False \n",
      "Type: float64\n"
     ]
    }
   ],
   "source": [
    "infocol(df,\"LAND SQUARE FEET 2\")"
   ]
  },
  {
   "cell_type": "code",
   "execution_count": 2103,
   "metadata": {},
   "outputs": [
    {
     "data": {
      "text/plain": [
       "<AxesSubplot:>"
      ]
     },
     "execution_count": 2103,
     "metadata": {},
     "output_type": "execute_result"
    },
    {
     "data": {
      "image/png": "[encoded data removed]",
      "text/plain": [
       "<Figure size 432x288 with 1 Axes>"
      ]
     },
     "metadata": {
      "needs_background": "light"
     },
     "output_type": "display_data"
    }
   ],
   "source": [
    "df.boxplot(column='LAND SQUARE FEET 2', sym='o', return_type='axes')\n",
    "#Our data still has many outliers"
   ]
  },
  {
   "cell_type": "code",
   "execution_count": 2104,
   "metadata": {},
   "outputs": [
    {
     "data": {
      "text/plain": [
       "<AxesSubplot:>"
      ]
     },
     "execution_count": 2104,
     "metadata": {},
     "output_type": "execute_result"
    },
    {
     "data": {
      "image/png": "[encoded data removed]",
      "text/plain": [
       "<Figure size 432x288 with 1 Axes>"
      ]
     },
     "metadata": {
      "needs_background": "light"
     },
     "output_type": "display_data"
    }
   ],
   "source": [
    "subset = df[df['LAND SQUARE FEET 2']<20000]\n",
    "subset.boxplot(column='LAND SQUARE FEET', sym='o', return_type='axes')"
   ]
  },
  {
   "cell_type": "code",
   "execution_count": 2105,
   "metadata": {},
   "outputs": [
    {
     "data": {
      "text/plain": [
       "<AxesSubplot:title={'center':'LAND SQUARE FEET 2'}, xlabel='BOROUGH'>"
      ]
     },
     "execution_count": 2105,
     "metadata": {},
     "output_type": "execute_result"
    },
    {
     "data": {
      "image/png": "[encoded data removed]",
      "text/plain": [
       "<Figure size 432x288 with 1 Axes>"
      ]
     },
     "metadata": {
      "needs_background": "light"
     },
     "output_type": "display_data"
    }
   ],
   "source": [
    "df.boxplot(by ='BOROUGH', column =['LAND SQUARE FEET 2'] , grid = False) \n",
    "# way too many outliers in QUEENS and STATEN ISLAND"
   ]
  },
  {
   "cell_type": "markdown",
   "metadata": {},
   "source": [
    "# 14.2 GROSS SQUARE FEET (Filling nulls with values)"
   ]
  },
  {
   "cell_type": "code",
   "execution_count": 2106,
   "metadata": {},
   "outputs": [
    {
     "name": "stdout",
     "output_type": "stream",
     "text": [
      "GROSS SQUARE FEET \n",
      "Null Values: 33967 \n",
      "No. of uniques: 5690 \n",
      "Unique key: False \n",
      "Type: float64\n"
     ]
    }
   ],
   "source": [
    "infocol(df,\"GROSS SQUARE FEET\") #way too many nulls"
   ]
  },
  {
   "cell_type": "code",
   "execution_count": 2107,
   "metadata": {},
   "outputs": [
    {
     "data": {
      "text/plain": [
       "<AxesSubplot:>"
      ]
     },
     "execution_count": 2107,
     "metadata": {},
     "output_type": "execute_result"
    },
    {
     "data": {
      "image/png": "[encoded data removed]",
      "text/plain": [
       "<Figure size 432x288 with 1 Axes>"
      ]
     },
     "metadata": {
      "needs_background": "light"
     },
     "output_type": "display_data"
    }
   ],
   "source": [
    "df['GROSS SQUARE FEET'].hist() #And way too many outliers"
   ]
  },
  {
   "cell_type": "code",
   "execution_count": 2108,
   "metadata": {},
   "outputs": [
    {
     "name": "stdout",
     "output_type": "stream",
     "text": [
      "GROSS SQUARE FEET \n",
      "Min:  60.0 \n",
      "Max:  3750565.0 \n",
      "Mean:  5060.445110832839 \n",
      "Median:  2000.0 \n",
      "Mode:  0    2400.0\n",
      "dtype: float64\n"
     ]
    }
   ],
   "source": [
    "ranges(df,\"GROSS SQUARE FEET\")"
   ]
  },
  {
   "cell_type": "markdown",
   "metadata": {},
   "source": [
    "### Making a new coloumn \"GROSS SQUARE FEET 2\" to get rid of nulls"
   ]
  },
  {
   "cell_type": "code",
   "execution_count": 2109,
   "metadata": {},
   "outputs": [],
   "source": [
    "df['GROSS SQUARE FEET 2'] = df['GROSS SQUARE FEET'].interpolate(method ='linear', limit_direction ='backward')"
   ]
  },
  {
   "cell_type": "code",
   "execution_count": 2110,
   "metadata": {},
   "outputs": [
    {
     "name": "stdout",
     "output_type": "stream",
     "text": [
      "LAND SQUARE FEET 2 \n",
      "Null Values: 0 \n",
      "No. of uniques: 35988 \n",
      "Unique key: False \n",
      "Type: float64\n"
     ]
    }
   ],
   "source": [
    "infocol(df,\"LAND SQUARE FEET 2\")"
   ]
  },
  {
   "cell_type": "code",
   "execution_count": 2111,
   "metadata": {},
   "outputs": [
    {
     "data": {
      "text/plain": [
       "<AxesSubplot:>"
      ]
     },
     "execution_count": 2111,
     "metadata": {},
     "output_type": "execute_result"
    },
    {
     "data": {
      "image/png": "[encoded data removed]",
      "text/plain": [
       "<Figure size 432x288 with 1 Axes>"
      ]
     },
     "metadata": {
      "needs_background": "light"
     },
     "output_type": "display_data"
    }
   ],
   "source": [
    "df.boxplot(column='GROSS SQUARE FEET 2', sym='o', return_type='axes')\n",
    "#Our data still has many outliers"
   ]
  },
  {
   "cell_type": "code",
   "execution_count": 2112,
   "metadata": {},
   "outputs": [
    {
     "data": {
      "text/plain": [
       "<AxesSubplot:>"
      ]
     },
     "execution_count": 2112,
     "metadata": {},
     "output_type": "execute_result"
    },
    {
     "data": {
      "image/png": "[encoded data removed]",
      "text/plain": [
       "<Figure size 432x288 with 1 Axes>"
      ]
     },
     "metadata": {
      "needs_background": "light"
     },
     "output_type": "display_data"
    }
   ],
   "source": [
    "subset = df[df['GROSS SQUARE FEET 2']<8000]\n",
    "subset.boxplot(column='GROSS SQUARE FEET', sym='o', return_type='axes')"
   ]
  },
  {
   "cell_type": "code",
   "execution_count": 2113,
   "metadata": {},
   "outputs": [
    {
     "data": {
      "text/plain": [
       "<AxesSubplot:title={'center':'GROSS SQUARE FEET 2'}, xlabel='BOROUGH'>"
      ]
     },
     "execution_count": 2113,
     "metadata": {},
     "output_type": "execute_result"
    },
    {
     "data": {
      "image/png": "[encoded data removed]",
      "text/plain": [
       "<Figure size 432x288 with 1 Axes>"
      ]
     },
     "metadata": {
      "needs_background": "light"
     },
     "output_type": "display_data"
    }
   ],
   "source": [
    "df.boxplot(by ='BOROUGH', column =['GROSS SQUARE FEET 2'] , grid = False) \n",
    "# way too many outliers in QUEENS and MANHATTAN"
   ]
  },
  {
   "cell_type": "markdown",
   "metadata": {},
   "source": [
    "# 15.2 YEAR BUILT"
   ]
  },
  {
   "cell_type": "code",
   "execution_count": 2114,
   "metadata": {},
   "outputs": [
    {
     "name": "stdout",
     "output_type": "stream",
     "text": [
      "YEAR BUILT \n",
      "Null Values: 6055 \n",
      "No. of uniques: 158 \n",
      "Unique key: False \n",
      "Type: datetime64[ns]\n"
     ]
    }
   ],
   "source": [
    "infocol(df,\"YEAR BUILT\")"
   ]
  },
  {
   "cell_type": "code",
   "execution_count": 2115,
   "metadata": {},
   "outputs": [
    {
     "data": {
      "text/plain": [
       "6055"
      ]
     },
     "execution_count": 2115,
     "metadata": {},
     "output_type": "execute_result"
    }
   ],
   "source": [
    "df['YEAR BUILT'].isnull().sum()"
   ]
  },
  {
   "cell_type": "code",
   "execution_count": 2116,
   "metadata": {},
   "outputs": [
    {
     "data": {
      "text/plain": [
       "0   1970-01-01 00:00:00.000001920\n",
       "dtype: datetime64[ns]"
      ]
     },
     "execution_count": 2116,
     "metadata": {},
     "output_type": "execute_result"
    }
   ],
   "source": [
    "df['YEAR BUILT'].mode()"
   ]
  },
  {
   "cell_type": "code",
   "execution_count": 2117,
   "metadata": {},
   "outputs": [],
   "source": [
    "df['YEAR BUILT'].replace(np.nan,1970-1-1 , inplace=True) "
   ]
  },
  {
   "cell_type": "markdown",
   "metadata": {},
   "source": [
    "# 16.2 TAX CLASS AT TIME OF SALE (Filling nulls with values)"
   ]
  },
  {
   "cell_type": "code",
   "execution_count": 2118,
   "metadata": {},
   "outputs": [
    {
     "data": {
      "text/plain": [
       "0"
      ]
     },
     "execution_count": 2118,
     "metadata": {},
     "output_type": "execute_result"
    }
   ],
   "source": [
    "df[\"TAX CLASS AT TIME OF SALE\"].isnull().sum() #Has no nulls"
   ]
  },
  {
   "cell_type": "markdown",
   "metadata": {},
   "source": [
    "# 17.2 BUILDING CLASS AT TIME OF SALE (Filling nulls with values)"
   ]
  },
  {
   "cell_type": "code",
   "execution_count": 2119,
   "metadata": {},
   "outputs": [
    {
     "data": {
      "text/plain": [
       "0"
      ]
     },
     "execution_count": 2119,
     "metadata": {},
     "output_type": "execute_result"
    }
   ],
   "source": [
    "df[\"BUILDING CLASS AT TIME OF SALE\"].isnull().sum() #Has no nulls"
   ]
  },
  {
   "cell_type": "markdown",
   "metadata": {},
   "source": [
    "# 18.2 SALE PRICE (Filling nulls with values)"
   ]
  },
  {
   "cell_type": "code",
   "execution_count": 2120,
   "metadata": {},
   "outputs": [
    {
     "data": {
      "text/plain": [
       "9499"
      ]
     },
     "execution_count": 2120,
     "metadata": {},
     "output_type": "execute_result"
    }
   ],
   "source": [
    "df[\"SALE PRICE\"].isnull().sum() #Has Many nulls"
   ]
  },
  {
   "cell_type": "code",
   "execution_count": 2121,
   "metadata": {},
   "outputs": [
    {
     "data": {
      "text/plain": [
       "<AxesSubplot:title={'center':'SALE PRICE'}, xlabel='BOROUGH'>"
      ]
     },
     "execution_count": 2121,
     "metadata": {},
     "output_type": "execute_result"
    },
    {
     "data": {
      "image/png": "[encoded data removed]",
      "text/plain": [
       "<Figure size 432x288 with 1 Axes>"
      ]
     },
     "metadata": {
      "needs_background": "light"
     },
     "output_type": "display_data"
    }
   ],
   "source": [
    "df.boxplot(by ='BOROUGH', column =['SALE PRICE'] , grid = False) \n",
    "#Outliers most in Manhattan"
   ]
  },
  {
   "cell_type": "code",
   "execution_count": 2122,
   "metadata": {},
   "outputs": [
    {
     "name": "stdout",
     "output_type": "stream",
     "text": [
      "SALE PRICE \n",
      "Min:  0.0 \n",
      "Max:  2210000000.0 \n",
      "Mean:  1276456.4977638705 \n",
      "Median:  530000.0 \n",
      "Mode:  0    0.0\n",
      "dtype: float64\n"
     ]
    }
   ],
   "source": [
    "ranges(df,'SALE PRICE')"
   ]
  },
  {
   "cell_type": "markdown",
   "metadata": {},
   "source": [
    "### Making a new coloumn \"SALE PRICE 2\" to get rid of nulls"
   ]
  },
  {
   "cell_type": "code",
   "execution_count": 2123,
   "metadata": {},
   "outputs": [],
   "source": [
    "df['SALE PRICE 2'] = df['SALE PRICE'].interpolate(method ='linear', limit_direction ='backward')"
   ]
  },
  {
   "cell_type": "code",
   "execution_count": 2124,
   "metadata": {},
   "outputs": [
    {
     "data": {
      "text/plain": [
       "0"
      ]
     },
     "execution_count": 2124,
     "metadata": {},
     "output_type": "execute_result"
    }
   ],
   "source": [
    "df[\"SALE PRICE 2\"].isnull().sum() #Has Many nulls"
   ]
  },
  {
   "cell_type": "markdown",
   "metadata": {},
   "source": [
    "# 19.2 SALE DATE (Filling nulls with values)"
   ]
  },
  {
   "cell_type": "code",
   "execution_count": 2125,
   "metadata": {},
   "outputs": [
    {
     "data": {
      "text/plain": [
       "2"
      ]
     },
     "execution_count": 2125,
     "metadata": {},
     "output_type": "execute_result"
    }
   ],
   "source": [
    "df['SALE DATE'].isnull().sum()"
   ]
  },
  {
   "cell_type": "code",
   "execution_count": 2126,
   "metadata": {},
   "outputs": [
    {
     "data": {
      "text/plain": [
       "0   2017-06-29\n",
       "dtype: datetime64[ns]"
      ]
     },
     "execution_count": 2126,
     "metadata": {},
     "output_type": "execute_result"
    }
   ],
   "source": [
    "df['SALE DATE'].mode()"
   ]
  },
  {
   "cell_type": "code",
   "execution_count": 2127,
   "metadata": {},
   "outputs": [],
   "source": [
    "df['SALE DATE'].replace(np.nan,2017-6-29 , inplace=True) "
   ]
  },
  {
   "cell_type": "code",
   "execution_count": 2129,
   "metadata": {},
   "outputs": [
    {
     "data": {
      "text/plain": [
       "0"
      ]
     },
     "execution_count": 2129,
     "metadata": {},
     "output_type": "execute_result"
    }
   ],
   "source": [
    "df['SALE DATE'].isnull().sum()"
   ]
  },
  {
   "cell_type": "code",
   "execution_count": 2130,
   "metadata": {},
   "outputs": [
    {
     "data": {
      "text/plain": [
       "BOROUGH                               0\n",
       "NEIGHBORHOOD                          0\n",
       "BUILDING CLASS CATEGORY               0\n",
       "TAX CLASS AT PRESENT                  0\n",
       "BLOCK                                 0\n",
       "LOT                                   0\n",
       "BUILDING CLASS AT PRESENT             0\n",
       "ADDRESS                               0\n",
       "ZIP CODE                              0\n",
       "RESIDENTIAL UNITS                     0\n",
       "COMMERCIAL UNITS                      0\n",
       "TOTAL UNITS                           0\n",
       "LAND SQUARE FEET                  31516\n",
       "GROSS SQUARE FEET                 33967\n",
       "YEAR BUILT                            0\n",
       "TAX CLASS AT TIME OF SALE             0\n",
       "BUILDING CLASS AT TIME OF SALE        0\n",
       "SALE PRICE                         9499\n",
       "SALE DATE                             0\n",
       "SALE_ID                               0\n",
       "LAND SQUARE FEET 2                    0\n",
       "GROSS SQUARE FEET 2                   0\n",
       "SALE PRICE 2                          0\n",
       "dtype: int64"
      ]
     },
     "execution_count": 2130,
     "metadata": {},
     "output_type": "execute_result"
    }
   ],
   "source": [
    "df.isnull().sum()"
   ]
  },
  {
   "cell_type": "code",
   "execution_count": 1,
   "metadata": {},
   "outputs": [
    {
     "ename": "NameError",
     "evalue": "name 'df' is not defined",
     "output_type": "error",
     "traceback": [
      "\u001b[1;31m---------------------------------------------------------------------------\u001b[0m",
      "\u001b[1;31mNameError\u001b[0m                                 Traceback (most recent call last)",
      "\u001b[1;32m<ipython-input-1-7b8f8bce9c19>\u001b[0m in \u001b[0;36m<module>\u001b[1;34m\u001b[0m\n\u001b[0;32m     67\u001b[0m \u001b[1;33m\u001b[0m\u001b[0m\n\u001b[0;32m     68\u001b[0m \u001b[0mcolumns\u001b[0m \u001b[1;33m=\u001b[0m \u001b[1;33m[\u001b[0m\u001b[1;34m'TOTAL UNITS'\u001b[0m\u001b[1;33m,\u001b[0m \u001b[1;34m'LAND SQUARE FEET 2'\u001b[0m\u001b[1;33m,\u001b[0m \u001b[1;34m'GROSS SQUARE FEET 2'\u001b[0m\u001b[1;33m,\u001b[0m \u001b[1;34m'SALE PRICE 2'\u001b[0m\u001b[1;33m]\u001b[0m\u001b[1;33m\u001b[0m\u001b[1;33m\u001b[0m\u001b[0m\n\u001b[1;32m---> 69\u001b[1;33m \u001b[0mcorr\u001b[0m \u001b[1;33m=\u001b[0m \u001b[0mdf\u001b[0m\u001b[1;33m[\u001b[0m\u001b[0mcolumns\u001b[0m\u001b[1;33m]\u001b[0m\u001b[1;33m.\u001b[0m\u001b[0mcorr\u001b[0m\u001b[1;33m(\u001b[0m\u001b[1;33m)\u001b[0m\u001b[1;33m\u001b[0m\u001b[1;33m\u001b[0m\u001b[0m\n\u001b[0m\u001b[0;32m     70\u001b[0m \u001b[0mcorr\u001b[0m \u001b[1;33m=\u001b[0m \u001b[0mpd\u001b[0m\u001b[1;33m.\u001b[0m\u001b[0mmelt\u001b[0m\u001b[1;33m(\u001b[0m\u001b[0mcorr\u001b[0m\u001b[1;33m.\u001b[0m\u001b[0mreset_index\u001b[0m\u001b[1;33m(\u001b[0m\u001b[1;33m)\u001b[0m\u001b[1;33m,\u001b[0m \u001b[0mid_vars\u001b[0m\u001b[1;33m=\u001b[0m\u001b[1;34m'index'\u001b[0m\u001b[1;33m)\u001b[0m \u001b[1;31m# Unpivot the dataframe, so we can get pair of arrays for x and y\u001b[0m\u001b[1;33m\u001b[0m\u001b[1;33m\u001b[0m\u001b[0m\n\u001b[0;32m     71\u001b[0m \u001b[0mcorr\u001b[0m\u001b[1;33m.\u001b[0m\u001b[0mcolumns\u001b[0m \u001b[1;33m=\u001b[0m \u001b[1;33m[\u001b[0m\u001b[1;34m'x'\u001b[0m\u001b[1;33m,\u001b[0m \u001b[1;34m'y'\u001b[0m\u001b[1;33m,\u001b[0m \u001b[1;34m'value'\u001b[0m\u001b[1;33m]\u001b[0m\u001b[1;33m\u001b[0m\u001b[1;33m\u001b[0m\u001b[0m\n",
      "\u001b[1;31mNameError\u001b[0m: name 'df' is not defined"
     ]
    }
   ],
   "source": [
    "def heatmap(x, y, size, color):\n",
    "    fig, ax = plt.subplots()\n",
    "    \n",
    "    # Mapping from column names to integer coordinates\n",
    "    x_labels = [v for v in sorted(x.unique())]\n",
    "    y_labels = [v for v in sorted(y.unique())]\n",
    "    x_to_num = {p[1]:p[0] for p in enumerate(x_labels)} \n",
    "    y_to_num = {p[1]:p[0] for p in enumerate(y_labels)} \n",
    "    \n",
    "    size_scale = 500\n",
    "    \n",
    "    n_colors = 256 # Use 256 colors for the diverging color palette\n",
    "    palette = sns.diverging_palette(20, 220, n=n_colors) # Create the palette\n",
    "    color_min, color_max = [-1, 1] # Range of values that will be mapped to the palette, i.e. min and max possible correlation\n",
    "\n",
    "    def value_to_color(val):\n",
    "        val_position = float((val - color_min)) / (color_max - color_min) # position of value in the input range, relative to the length of the input range\n",
    "        ind = int(val_position * (n_colors - 1)) # target index in the color palette\n",
    "        return palette[ind]\n",
    "    \n",
    "    plot_grid = plt.GridSpec(1, 15, hspace=0.2, wspace=0.1) # Setup a 1x15 grid\n",
    "    ax = plt.subplot(plot_grid[:,:-1]) # Use the leftmost 14 columns of the grid for the main plot\n",
    "    \n",
    "    ax.scatter(\n",
    "        x=x.map(x_to_num), # Use mapping for x\n",
    "        y=y.map(y_to_num), # Use mapping for y\n",
    "        s=size * size_scale, # Vector of square sizes, proportional to size parameter\n",
    "        c=color.apply(value_to_color), # Vector of square colors, mapped to color palette\n",
    "        marker='s' # Use square as scatterplot marker\n",
    "    )\n",
    "    \n",
    "    # Show column labels on the axes\n",
    "    ax.set_xticks([x_to_num[v] for v in x_labels])\n",
    "    ax.set_xticklabels(x_labels, rotation=45, horizontalalignment='right')\n",
    "    ax.set_yticks([y_to_num[v] for v in y_labels])\n",
    "    ax.set_yticklabels(y_labels)\n",
    "    \n",
    "    ax.grid(False, 'major') # Turn off major gridlines\n",
    "    ax.grid(True, 'minor') # Turn on minor gridlines\n",
    "    ax.set_xticks([t + 0.5 for t in ax.get_xticks()], minor=True) # Set gridlines to appear between integer coordinates\n",
    "    ax.set_yticks([t + 0.5 for t in ax.get_yticks()], minor=True) # Do the same for y axis\n",
    "    \n",
    "    ax.set_xlim([-0.5, max([v for v in x_to_num.values()]) + 0.5]) \n",
    "    ax.set_ylim([-0.5, max([v for v in y_to_num.values()]) + 0.5])\n",
    "       \n",
    "    # Add color legend on the right side of the plot\n",
    "    ax = plt.subplot(plot_grid[:,-1]) # Use the rightmost column of the plot\n",
    "\n",
    "    col_x = [0]*len(palette) # Fixed x coordinate for the bars\n",
    "    y=np.linspace(color_min, color_max, n_colors) # y coordinates for each of the n_colors bars\n",
    "\n",
    "    bar_height = y[1] - y[0]\n",
    "    ax.barh(\n",
    "        y=y,\n",
    "        width=[5]*len(palette), # Make bars 5 units wide\n",
    "        left=col_x, # Make bars start at 0\n",
    "        height=bar_height,\n",
    "        color=palette,\n",
    "        linewidth=0\n",
    "    )\n",
    "    ax.set_xlim(1, 2) # Bars are going from 0 to 5, so lets crop the plot somewhere in the middle\n",
    "    ax.grid(False) # Hide grid\n",
    "    ax.set_facecolor('white') # Make background white\n",
    "    ax.set_xticks([]) # Remove horizontal ticks\n",
    "    ax.set_yticks(np.linspace(min(y), max(y), 3)) # Show vertical ticks for min, middle and max\n",
    "    ax.yaxis.tick_right() # Show vertical ticks on the right \n",
    "    \n",
    "columns = ['TOTAL UNITS', 'LAND SQUARE FEET 2', 'GROSS SQUARE FEET 2', 'SALE PRICE 2'] \n",
    "corr = df[columns].corr()\n",
    "corr = pd.melt(corr.reset_index(), id_vars='index') # Unpivot the dataframe, so we can get pair of arrays for x and y\n",
    "corr.columns = ['x', 'y', 'value']\n",
    "heatmap(\n",
    "    x=corr['x'],\n",
    "    y=corr['y'],\n",
    "    size=corr['value'].abs(),\n",
    "    color=corr['value']\n",
    ")"
   ]
  },
  {
   "cell_type": "markdown",
   "metadata": {},
   "source": [
    "# Questions we can answer:\n",
    "###  1. No. of building sold is maximum in Queens and minimum in Bronx (for ref. see 1.1 BOROUGH)\n",
    "###  2. One family homes are the most bought category of property (for ref. see 3.1 BUILDING CLASS CATEGORY)\n",
    "###  3. Most buildings are chrged with class 1 tax class (for ref. 4.1 TAX CLASS AT PRESENT)\n",
    "###  4. Case of Missing Not at Random, there are 4147 such rows which have NULLS in three coloummns, which are:\n",
    "##### 1.LAND SQ FEET\n",
    "##### 2.GROSS SQ FEET\n",
    "##### 3.SALE PRICE \n",
    "### 5. Case of Missing Not at Random, there are 915 such rows which have nulls in a four coloumns, which are:\n",
    "##### 1. YEAR BUILT\n",
    "##### 2. LAND SQ FEET\n",
    "##### 3. GROSS SQ FEET\n",
    "##### 4. SALE PRICE\n",
    "### 6. Outliers:\n",
    "##### 1. Outliers of sales most in Manhattan (for ref. see 18.2)\n",
    "##### 2. Outliers of Gross sq feet most in Queens and Manhattan (for ref. see 14.2)\n",
    "##### 3.Outliers of Land Sq feet most in Queens and Staten Island (for ref. see 13.2)\n",
    "### Correlation:\n",
    "##### Sale price has a week positive relation with No. of units and Gross square feet."
   ]
  },
  {
   "cell_type": "code",
   "execution_count": 2132,
   "metadata": {},
   "outputs": [],
   "source": [
    "df.to_csv(r'D:\\cleaned.csv')"
   ]
  }
 ],
 "metadata": {
  "kernelspec": {
   "display_name": "Python 3",
   "language": "python",
   "name": "python3"
  },
  "language_info": {
   "codemirror_mode": {
    "name": "ipython",
    "version": 3
   },
   "file_extension": ".py",
   "mimetype": "text/x-python",
   "name": "python",
   "nbconvert_exporter": "python",
   "pygments_lexer": "ipython3",
   "version": "3.8.5"
  }
 },
 "nbformat": 4,
 "nbformat_minor": 4
}
